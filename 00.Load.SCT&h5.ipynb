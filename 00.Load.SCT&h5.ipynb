{
 "cells": [
  {
   "cell_type": "code",
   "execution_count": 2,
   "id": "497a8aa2-1c94-4bc6-80f6-91e55824ca5d",
   "metadata": {
    "execution": {
     "iopub.execute_input": "2024-10-21T01:51:17.979141Z",
     "iopub.status.busy": "2024-10-21T01:51:17.939998Z",
     "iopub.status.idle": "2024-10-21T01:51:18.074916Z",
     "shell.execute_reply": "2024-10-21T01:51:18.073035Z"
    },
    "tags": []
   },
   "outputs": [],
   "source": [
    "library(dplyr)\n",
    "library(Matrix)\n",
    "library(data.table)\n",
    "library(Seurat)\n",
    "library(RColorBrewer)\n",
    "library(cowplot)\n",
    "library(future)\n",
    "library(ComplexHeatmap)\n",
    "library(viridis)\n",
    "library(SeuratObject)\n",
    "library(readxl)\n",
    "library(BayesSpace)\n",
    "library(SingleCellExperiment)\n",
    "library(ggplot2)\n",
    "library(getopt)\n",
    "library(reshape2)\n",
    "library(gridExtra)\n",
    "library(harmony)\n",
    "library(imager)\n",
    "library(ArchR)\n",
    "library(ggplot2)\n",
    "library(ggrastr)\n",
    "library(parallel) \n",
    "library(ggplot2)\n",
    "library(cols4all)\n",
    "library(cowplot)\n",
    "library(\"shinyjs\")\n",
    "library(\"kableExtra\")\n",
    "library(\"colorblindcheck\")\n",
    "library(tidydr) \n",
    "options(warn=-1) \n",
    "source(\"/data/work/AD/bin/batch2/00.code/function.R\")\n",
    "cols <- c(brewer.pal(9, \"Set1\"),brewer.pal(8,\"Set2\")[1:8],brewer.pal(12,\"Paired\")[1:12],brewer.pal(8,\"Dark2\")[1:8],brewer.pal(8,\"Accent\"))\n",
    "suppressMessages(library(tidyverse))\n",
    "suppressMessages(library(parallel))\n",
    "suppressMessages(library(Seurat))\n",
    "# suppressMessages(library(SeuratData))\n",
    "suppressMessages(library(patchwork))\n",
    "suppressMessages(library(Matrix))\n",
    "suppressMessages(library(viridis))\n",
    "suppressMessages(library(cowplot))\n",
    "suppressMessages(library(pheatmap))\n",
    "suppressMessages(library(RColorBrewer))\n",
    "suppressMessages(library(reshape2))\n",
    "suppressMessages(library(randomForest))\n",
    "suppressMessages(library(harmony))\n",
    "# suppressMessages(library(BPCells))\n",
    "suppressMessages(library(reticulate))"
   ]
  },
  {
   "cell_type": "code",
   "execution_count": 6,
   "id": "6e313a8f-4acc-456e-abfb-5f3810b2df6c",
   "metadata": {
    "execution": {
     "iopub.execute_input": "2024-10-21T01:59:54.230369Z",
     "iopub.status.busy": "2024-10-21T01:59:54.226312Z",
     "iopub.status.idle": "2024-10-21T01:59:54.270093Z",
     "shell.execute_reply": "2024-10-21T01:59:54.268317Z"
    },
    "tags": []
   },
   "outputs": [
    {
     "data": {
      "text/html": [
       "<style>\n",
       ".list-inline {list-style: none; margin:0; padding: 0}\n",
       ".list-inline>li {display: inline-block}\n",
       ".list-inline>li:not(:last-child)::after {content: \"\\00b7\"; padding: 0 .5ex}\n",
       "</style>\n",
       "<ol class=list-inline><li>'B03421A5.adjusted.gem'</li><li>'C04595E2.adjusted.gem'</li><li>'C04595E2.tissue.gem.gz'</li><li>'C04595F1.adjusted.gem'</li><li>'C04595F1.tissue.gem.gz'</li><li>'D03556C4.adjusted.gem'</li><li>'D03556C4.tissue.gem.gz'</li><li>'D03556D4.adjusted.gem'</li><li>'D03556D4.tissue.gem.gz'</li><li>'D03556D6.adjusted.gem'</li><li>'D03556D6.tissue.gem.gz'</li><li>'D03556E2.tissue.gem.gz'</li><li>'D03556E4.adjusted.gem'</li><li>'D03556E4.tissue.gem.gz'</li><li>'D03556E6.adjusted.gem'</li><li>'D03556E6.tissue.gem.gz'</li><li>'D03556F4.adjusted.gem'</li><li>'D03556F4.tissue.gem.gz'</li><li>'D03556F6.adjusted.gem'</li><li>'D03556F6.tissue.gem.gz'</li><li>'D04303A6.adjusted.gem'</li><li>'D04303A6.tissue.gem.gz'</li><li>'D04303D1.adjusted.gem'</li><li>'D04303D1.tissue.gem.gz'</li><li>'D04305A2.adjusted.gem'</li><li>'D04305A2.tissue.gem.gz'</li><li>'D04305A4.adjusted.gem'</li><li>'D04305A4.tissue.gem.gz'</li><li>'D04305A6.adjusted.gem'</li><li>'D04305A6.tissue.gem.gz'</li><li>'D04305C6.adjusted.gem'</li><li>'D04305C6.tissue.gem.gz'</li></ol>\n"
      ],
      "text/latex": [
       "\\begin{enumerate*}\n",
       "\\item 'B03421A5.adjusted.gem'\n",
       "\\item 'C04595E2.adjusted.gem'\n",
       "\\item 'C04595E2.tissue.gem.gz'\n",
       "\\item 'C04595F1.adjusted.gem'\n",
       "\\item 'C04595F1.tissue.gem.gz'\n",
       "\\item 'D03556C4.adjusted.gem'\n",
       "\\item 'D03556C4.tissue.gem.gz'\n",
       "\\item 'D03556D4.adjusted.gem'\n",
       "\\item 'D03556D4.tissue.gem.gz'\n",
       "\\item 'D03556D6.adjusted.gem'\n",
       "\\item 'D03556D6.tissue.gem.gz'\n",
       "\\item 'D03556E2.tissue.gem.gz'\n",
       "\\item 'D03556E4.adjusted.gem'\n",
       "\\item 'D03556E4.tissue.gem.gz'\n",
       "\\item 'D03556E6.adjusted.gem'\n",
       "\\item 'D03556E6.tissue.gem.gz'\n",
       "\\item 'D03556F4.adjusted.gem'\n",
       "\\item 'D03556F4.tissue.gem.gz'\n",
       "\\item 'D03556F6.adjusted.gem'\n",
       "\\item 'D03556F6.tissue.gem.gz'\n",
       "\\item 'D04303A6.adjusted.gem'\n",
       "\\item 'D04303A6.tissue.gem.gz'\n",
       "\\item 'D04303D1.adjusted.gem'\n",
       "\\item 'D04303D1.tissue.gem.gz'\n",
       "\\item 'D04305A2.adjusted.gem'\n",
       "\\item 'D04305A2.tissue.gem.gz'\n",
       "\\item 'D04305A4.adjusted.gem'\n",
       "\\item 'D04305A4.tissue.gem.gz'\n",
       "\\item 'D04305A6.adjusted.gem'\n",
       "\\item 'D04305A6.tissue.gem.gz'\n",
       "\\item 'D04305C6.adjusted.gem'\n",
       "\\item 'D04305C6.tissue.gem.gz'\n",
       "\\end{enumerate*}\n"
      ],
      "text/markdown": [
       "1. 'B03421A5.adjusted.gem'\n",
       "2. 'C04595E2.adjusted.gem'\n",
       "3. 'C04595E2.tissue.gem.gz'\n",
       "4. 'C04595F1.adjusted.gem'\n",
       "5. 'C04595F1.tissue.gem.gz'\n",
       "6. 'D03556C4.adjusted.gem'\n",
       "7. 'D03556C4.tissue.gem.gz'\n",
       "8. 'D03556D4.adjusted.gem'\n",
       "9. 'D03556D4.tissue.gem.gz'\n",
       "10. 'D03556D6.adjusted.gem'\n",
       "11. 'D03556D6.tissue.gem.gz'\n",
       "12. 'D03556E2.tissue.gem.gz'\n",
       "13. 'D03556E4.adjusted.gem'\n",
       "14. 'D03556E4.tissue.gem.gz'\n",
       "15. 'D03556E6.adjusted.gem'\n",
       "16. 'D03556E6.tissue.gem.gz'\n",
       "17. 'D03556F4.adjusted.gem'\n",
       "18. 'D03556F4.tissue.gem.gz'\n",
       "19. 'D03556F6.adjusted.gem'\n",
       "20. 'D03556F6.tissue.gem.gz'\n",
       "21. 'D04303A6.adjusted.gem'\n",
       "22. 'D04303A6.tissue.gem.gz'\n",
       "23. 'D04303D1.adjusted.gem'\n",
       "24. 'D04303D1.tissue.gem.gz'\n",
       "25. 'D04305A2.adjusted.gem'\n",
       "26. 'D04305A2.tissue.gem.gz'\n",
       "27. 'D04305A4.adjusted.gem'\n",
       "28. 'D04305A4.tissue.gem.gz'\n",
       "29. 'D04305A6.adjusted.gem'\n",
       "30. 'D04305A6.tissue.gem.gz'\n",
       "31. 'D04305C6.adjusted.gem'\n",
       "32. 'D04305C6.tissue.gem.gz'\n",
       "\n",
       "\n"
      ],
      "text/plain": [
       " [1] \"B03421A5.adjusted.gem\"  \"C04595E2.adjusted.gem\"  \"C04595E2.tissue.gem.gz\"\n",
       " [4] \"C04595F1.adjusted.gem\"  \"C04595F1.tissue.gem.gz\" \"D03556C4.adjusted.gem\" \n",
       " [7] \"D03556C4.tissue.gem.gz\" \"D03556D4.adjusted.gem\"  \"D03556D4.tissue.gem.gz\"\n",
       "[10] \"D03556D6.adjusted.gem\"  \"D03556D6.tissue.gem.gz\" \"D03556E2.tissue.gem.gz\"\n",
       "[13] \"D03556E4.adjusted.gem\"  \"D03556E4.tissue.gem.gz\" \"D03556E6.adjusted.gem\" \n",
       "[16] \"D03556E6.tissue.gem.gz\" \"D03556F4.adjusted.gem\"  \"D03556F4.tissue.gem.gz\"\n",
       "[19] \"D03556F6.adjusted.gem\"  \"D03556F6.tissue.gem.gz\" \"D04303A6.adjusted.gem\" \n",
       "[22] \"D04303A6.tissue.gem.gz\" \"D04303D1.adjusted.gem\"  \"D04303D1.tissue.gem.gz\"\n",
       "[25] \"D04305A2.adjusted.gem\"  \"D04305A2.tissue.gem.gz\" \"D04305A4.adjusted.gem\" \n",
       "[28] \"D04305A4.tissue.gem.gz\" \"D04305A6.adjusted.gem\"  \"D04305A6.tissue.gem.gz\"\n",
       "[31] \"D04305C6.adjusted.gem\"  \"D04305C6.tissue.gem.gz\""
      ]
     },
     "metadata": {},
     "output_type": "display_data"
    }
   ],
   "source": [
    "list.files(\"/data/users/heyouzhe/online/01_DATA/09_Stereo_matrix/gem/\")"
   ]
  },
  {
   "cell_type": "code",
   "execution_count": null,
   "id": "33a77a76-51eb-4e0d-8f2e-e3fa017843db",
   "metadata": {},
   "outputs": [],
   "source": [
    "chipname <- chipname"
   ]
  },
  {
   "cell_type": "code",
   "execution_count": 4,
   "id": "fffb9ac6-3270-4a23-b2dc-2bf98c21957f",
   "metadata": {
    "execution": {
     "iopub.execute_input": "2024-10-21T01:51:21.559926Z",
     "iopub.status.busy": "2024-10-21T01:51:21.556091Z",
     "iopub.status.idle": "2024-10-21T01:51:21.575925Z",
     "shell.execute_reply": "2024-10-21T01:51:21.574136Z"
    }
   },
   "outputs": [],
   "source": [
    "setwd(\"/data/work/AD/bin/batch5_V7/01.SCT&h5.data\")"
   ]
  },
  {
   "cell_type": "code",
   "execution_count": 5,
   "id": "a93c3314-968d-4656-83cb-1d608ae180cd",
   "metadata": {
    "execution": {
     "iopub.execute_input": "2024-10-21T01:51:26.446013Z",
     "iopub.status.busy": "2024-10-21T01:51:26.443743Z",
     "iopub.status.idle": "2024-10-21T01:53:23.226979Z",
     "shell.execute_reply": "2024-10-21T01:53:23.223385Z"
    }
   },
   "outputs": [],
   "source": [
    "source(\"/data/work/41.readgem/LoadBGI_Spatial.r\")\n",
    "# dir.create(paste0(args[6],\"/01.seurat.SCT\"),recursive = TRUE)\n",
    "# setwd(paste0(args[6],\"/01.seurat.SCT\"))\n",
    "seuobj = LoadBGI_Spatial(filename = paste0(\"/data/users/heyouzhe/online/01_DATA/09_Stereo_matrix/gem/\",chipname,\".tissue.gem.gz\"),cell_mask = F,bin_data = T,UMI_GreyScale_Image = F,area_mask=F,bin_size =100,save_rds=F,pro_name=chipname,save_h5ad=T)"
   ]
  },
  {
   "cell_type": "code",
   "execution_count": 3,
   "id": "5834c417-13e3-4c3e-a8a9-4db09acfa1e4",
   "metadata": {
    "execution": {
     "iopub.execute_input": "2024-10-20T12:00:29.328592Z",
     "iopub.status.busy": "2024-10-20T12:00:29.321240Z",
     "iopub.status.idle": "2024-10-20T12:00:29.361031Z",
     "shell.execute_reply": "2024-10-20T12:00:29.358252Z"
    },
    "tags": []
   },
   "outputs": [],
   "source": [
    "colors <- c(\n",
    "  \"#B22A6D\",   # RGB (178, 42, 109)\n",
    "  \"#014F7F\",   # RGB (1, 79, 127)\n",
    "  \"#6D5D77\",   # RGB (109, 93, 119)\n",
    "  \"#FFB7FF\",   # RGB (255, 183, 255)\n",
    "  \"#FF8C53\",   # RGB (255, 140, 83)\n",
    "  \"#00555A\",   # RGB (0, 85, 90)\n",
    "  \"#01FFFF\",   # RGB (1, 255, 255)\n",
    "  \"#924A79\",   # RGB (146, 74, 121)\n",
    "  \"#FC97FE\",   # RGB (252, 151, 254)\n",
    "  \"#5A8895\",   # RGB (90, 136, 149)\n",
    "  \"#0050A0\",   # RGB (0, 80, 160)\n",
    "  \"#919BE2\",   # RGB (145, 155, 226)\n",
    "  \"#009EBE\",   # RGB (0, 158, 190)\n",
    "  \"#059445\",   # RGB (5, 148, 69)\n",
    "  \"#74876B\",   # RGB (116, 135, 107)\n",
    "  \"#00B4FD\"    # RGB (0, 180, 253)\n",
    ")\n",
    "best_color <- c(\"#9571d9\", \"#99cc31\", \"#fb8071\", \"#8cd2c7\", \"#208b23\", \"#199a73\",\"#cbeac4\", \"#6a8e20\", \"#32a02d\", \"#a4cee1\", \"#02bdfe\",\"#08529d\", \"#108b96\", \"#fcb462\", \n",
    "                \"#fd7c01\", \"#fdbc66\", \"#da5e05\", \"#8b0201\",\"#E31A1C\", \"#FDBF6F\", \"#FF7F00\", \"#CAB2D6\", \"#6A3D9A\", \"#B15928\",\"#FBB4AE\", \"#B3CDE3\", \"#BC80BD\", \"#CCEBC5\",\n",
    "                \"#DECBE4\", \"#FED9A6\",\"#FFFFCC\", \"#E5D8BD\", \"#FDDAEC\", \"#F2F2F2\", \"#B3E2CD\", \"#FDCDAC\",\"#CBD5E8\", \"#F4CAE4\", \"#E6F5C9\", \"#FFF2AE\", \"#F1E2CC\", \"#CCCCCC\",\n",
    "                \"#E41A1C\", \"#377EB8\", \"#984EA3\", \"#FFFF33\", \"#A65628\", \"#F781BF\",\"#999999\", \"#FFED6F\", \"#66C2A5\", \"#FC8D62\", \"#8DA0CB\", \"#E78AC3\",\"#A6D854\", \"#FFD92F\",\n",
    "                \"#E5C494\", \"#B3B3B3\", \"#8DD3C7\", \"#FFFFB3\",\"#BEBADA\", \"#FB8072\", \"#80B1D3\", \"#FDB462\", \"#B3DE69\", \"#FCCDE5\",\"#D9D9D9\",\"#666666\")\n",
    "\n",
    "colsblack <- c(colors,\"#FFFF00\",\"#E31A1C\",\"#D7E3FF\",\"#A1CAF1\",\"#C2B280\",\"#999999\",\"#A30059\",\"#FFF300\",\"#F38400\",\n",
    "               \"#00FF00\",\"#A020F0\",\"#509DEA\",\"#FF2F80\",\"#FE4945\",\"#FFE4E1\",\"#E25822\",\"#00C2A0\",\"#4FC601\",\"#FFAA92\",\n",
    "               \"#FDC086\",\"#FF4A9C\",\"#E68FAC\",\"#F781BF\",\"#8FB0FF\",\"#63FFAC\",\"#1CE6FF\",\"#41AB5D\",\"#0000A6\",\"#FFFF99\",\n",
    "               \"#F6A600\",\"#FF1493\",\"#bc321a\",\"#FF90C9\",\"#3B5DFF\",\"#FF34FF\",\"#1E90FF\",\"#F99379\",\"#74C476\",\"#7B4F4B\",\n",
    "               \"#DCD300\",\"#363636\",best_color)"
   ]
  },
  {
   "cell_type": "code",
   "execution_count": null,
   "id": "ab98423a-b96b-4fb7-90ba-31a63b3e5d24",
   "metadata": {},
   "outputs": [],
   "source": [
    "seuobj <- seuseuobj\n",
    "seuobj <- NormalizeData(seuobj, normalization.method = \"RC\") \n",
    "seuobj <- SCTransform(seuobj, assay = \"Spatial\", verbose = FALSE) \n",
    "seuobj <- RunPCA(seuobj, assay = \"SCT\", verbose = FALSE) \n",
    "seuobj <- FindNeighbors(seuobj, reduction = \"pca\", dims = 1:40) \n",
    "seuobj <- FindClusters(seuobj, verbose = FALSE,resolution = c(0.5,0.8,1.2,1.5,2)) \n",
    "seuobj <- RunUMAP(seuobj, reduction = \"pca\", dims = 1:40) "
   ]
  },
  {
   "cell_type": "code",
   "execution_count": null,
   "id": "d2fa83b7-b819-476c-9b05-e2454be06f78",
   "metadata": {},
   "outputs": [],
   "source": [
    "seuobj$coor_y = as.integer(seuobj@images$slice1@coordinates$row)\n",
    "seuobj$coor_x = as.integer(seuobj@images$slice1@coordinates$col)\n",
    "coord <- data.frame(stereo_1 = seuobj$coor_x, stereo_2 = seuobj$coor_y)\n",
    "seuobj[[\"stereo\"]] <- SeuratObject::CreateDimReducObject(embeddings = as.matrix(coord), key = \"stereo_\", assay = \"SCT\")\n",
    "saveRDS(seuobj,paste0(chipname,\".bin100.SCT.rds\"))"
   ]
  },
  {
   "cell_type": "code",
   "execution_count": null,
   "id": "34c55533-e3e0-4d48-951d-4fe5e7cb673e",
   "metadata": {},
   "outputs": [],
   "source": [
    "p1 <- list()\n",
    "p1[[1]]<- ggplot(data=seuobj@meta.data, aes(x=coor_x, y=coor_y, color=SCT_snn_res.0.5)) +  \n",
    "  geom_point_rast(size=0.1, alpha=1) + \n",
    "  scale_color_manual(values=colsblack) + \n",
    "  coord_fixed() +\n",
    "  # geom_point_rast(data=all, aes(x=coor_x, y=coor_y), size=0.2, color='black', stroke=0.0001, alpha=0.1) +\n",
    "  theme(panel.grid.major = element_blank(),\n",
    "        panel.grid.minor = element_blank(),\n",
    "        panel.border = element_blank(),\n",
    "        axis.title = element_blank(),\n",
    "        axis.text = element_blank(),\n",
    "        axis.ticks = element_blank(),\n",
    "        panel.background = element_rect(fill='white'),\n",
    "        plot.background=element_rect(fill=\"white\")) + \n",
    "  guides(color = guide_legend(override.aes = list(size=1.5))) \n",
    "\n",
    "p1[[2]]<- ggplot(data=seuobj@meta.data, aes(x=coor_x, y=coor_y, color=SCT_snn_res.0.8)) +  \n",
    "  geom_point_rast(size=0.1, alpha=1) + \n",
    "  scale_color_manual(values=colsblack) + \n",
    "  coord_fixed() +\n",
    "  # geom_point_rast(data=all, aes(x=coor_x, y=coor_y), size=0.2, color='black', stroke=0.0001, alpha=0.1) +\n",
    "  theme(panel.grid.major = element_blank(),\n",
    "        panel.grid.minor = element_blank(),\n",
    "        panel.border = element_blank(),\n",
    "        axis.title = element_blank(),\n",
    "        axis.text = element_blank(),\n",
    "        axis.ticks = element_blank(),\n",
    "        panel.background = element_rect(fill='white'),\n",
    "        plot.background=element_rect(fill=\"white\")) + \n",
    "  guides(color = guide_legend(override.aes = list(size=1.5))) \n",
    "\n",
    "p1[[3]]<- ggplot(data=seuobj@meta.data, aes(x=coor_x, y=coor_y, color=SCT_snn_res.1.2)) +  \n",
    "  geom_point_rast(size=0.1, alpha=1) + \n",
    "  scale_color_manual(values=colsblack) + \n",
    "  coord_fixed() +\n",
    "  # geom_point_rast(data=all, aes(x=coor_x, y=coor_y), size=0.2, color='black', stroke=0.0001, alpha=0.1) +\n",
    "  theme(panel.grid.major = element_blank(),\n",
    "        panel.grid.minor = element_blank(),\n",
    "        panel.border = element_blank(),\n",
    "        axis.title = element_blank(),\n",
    "        axis.text = element_blank(),\n",
    "        axis.ticks = element_blank(),\n",
    "        panel.background = element_rect(fill='white'),\n",
    "        plot.background=element_rect(fill=\"white\")) + \n",
    "  guides(color = guide_legend(override.aes = list(size=1.5))) \n",
    "\n",
    "p1[[4]]<- ggplot(data=seuobj@meta.data, aes(x=coor_x, y=coor_y, color=SCT_snn_res.1.5)) +  \n",
    "  geom_point_rast(size=0.1, alpha=1) + \n",
    "  scale_color_manual(values=colsblack) + \n",
    "  coord_fixed() +\n",
    "  # geom_point_rast(data=all, aes(x=coor_x, y=coor_y), size=0.2, color='black', stroke=0.0001, alpha=0.1) +\n",
    "  theme(panel.grid.major = element_blank(),\n",
    "        panel.grid.minor = element_blank(),\n",
    "        panel.border = element_blank(),\n",
    "        axis.title = element_blank(),\n",
    "        axis.text = element_blank(),\n",
    "        axis.ticks = element_blank(),\n",
    "        panel.background = element_rect(fill='white'),\n",
    "        plot.background=element_rect(fill=\"white\")) + \n",
    "  guides(color = guide_legend(override.aes = list(size=1.5))) \n",
    "\n",
    "p1[[5]]<- ggplot(data=seuobj@meta.data, aes(x=coor_x, y=coor_y, color=SCT_snn_res.2)) +  \n",
    "  geom_point_rast(size=0.1, alpha=1) + \n",
    "  scale_color_manual(values=colsblack) + \n",
    "  coord_fixed() +\n",
    "  # geom_point_rast(data=all, aes(x=coor_x, y=coor_y), size=0.2, color='black', stroke=0.0001, alpha=0.1) +\n",
    "  theme(panel.grid.major = element_blank(),\n",
    "        panel.grid.minor = element_blank(),\n",
    "        panel.border = element_blank(),\n",
    "        axis.title = element_blank(),\n",
    "        axis.text = element_blank(),\n",
    "        axis.ticks = element_blank(),\n",
    "        panel.background = element_rect(fill='white'),\n",
    "        plot.background=element_rect(fill=\"white\")) + \n",
    "  guides(color = guide_legend(override.aes = list(size=1.5))) \n",
    "# ggsave(paste0(chipname, \"_Bin100.thm.pdf\"), p1, width=6, height=5)\n",
    "\n",
    "library(cowplot)\n",
    "options(warn=-1) \n",
    "p_all=plot_grid(plotlist = p1,ncol = 5)\n",
    "#p_all\n",
    "ggsave(paste0(\"/data/work/AD/bin/batch5_V7/01.SCT&h5.data/\",chipname,\"_SCTclustering.pdf\"),p_all,width = 30,height=5)"
   ]
  },
  {
   "cell_type": "code",
   "execution_count": null,
   "id": "e9925e3c-3837-4fec-8e85-7baa3fea26d9",
   "metadata": {},
   "outputs": [],
   "source": [
    "# obj <- seuobj"
   ]
  },
  {
   "cell_type": "code",
   "execution_count": null,
   "id": "ea624d2f-fc70-47d2-82bb-71405e2b5dac",
   "metadata": {
    "execution": {
     "iopub.execute_input": "2024-10-16T02:07:05.495098Z",
     "iopub.status.busy": "2024-10-16T02:07:05.493718Z",
     "iopub.status.idle": "2024-10-16T02:07:05.538993Z",
     "shell.execute_reply": "2024-10-16T02:07:05.537611Z"
    },
    "tags": []
   },
   "outputs": [],
   "source": [
    "# obj$row = obj$coor_y\n",
    "# obj$col = obj$coor_x"
   ]
  },
  {
   "cell_type": "code",
   "execution_count": null,
   "id": "24fc34f8-0045-4a8c-83ae-176ba7af940c",
   "metadata": {
    "execution": {
     "iopub.execute_input": "2024-10-16T02:54:36.890025Z",
     "iopub.status.busy": "2024-10-16T02:54:36.887171Z",
     "iopub.status.idle": "2024-10-16T02:54:37.011822Z",
     "shell.execute_reply": "2024-10-16T02:54:37.008802Z"
    },
    "tags": []
   },
   "outputs": [],
   "source": [
    "# obj1$row = obj1$coor_y\n",
    "# obj1$col = obj1$coor_x"
   ]
  },
  {
   "cell_type": "code",
   "execution_count": 7,
   "id": "a0d61e2b-445f-40ad-83b1-24758a2a14e2",
   "metadata": {
    "execution": {
     "iopub.execute_input": "2024-10-16T02:54:37.580002Z",
     "iopub.status.busy": "2024-10-16T02:54:37.577528Z",
     "iopub.status.idle": "2024-10-16T02:56:21.531727Z",
     "shell.execute_reply": "2024-10-16T02:56:21.526222Z"
    },
    "tags": []
   },
   "outputs": [],
   "source": [
    "# sce <- as.SingleCellExperiment(obj1,assay='SCT')\n",
    "# set.seed(1234)\n",
    "# sce <- spatialPreprocess(sce, platform=\"ST\", \n",
    "#                          n.PCs=50, n.HVGs=3000, log.normalize=F)\n",
    "\n"
   ]
  },
  {
   "cell_type": "code",
   "execution_count": 3,
   "id": "5edbb11e-d836-4f5b-bb8d-9354a6f72839",
   "metadata": {
    "execution": {
     "iopub.execute_input": "2024-10-16T03:19:25.094578Z",
     "iopub.status.busy": "2024-10-16T03:19:25.093004Z",
     "iopub.status.idle": "2024-10-16T03:19:25.104719Z",
     "shell.execute_reply": "2024-10-16T03:19:25.103036Z"
    },
    "tags": []
   },
   "outputs": [],
   "source": [
    "# n_clu=50 \n",
    "# sce <- spatialCluster(sce, q=n_clu,\n",
    "#                       platform=\"ST\", \n",
    "#                       d=30,\n",
    "#                       init.method=\"mclust\",\n",
    "#                       model=\"t\",\n",
    "#                       gamma=2,\n",
    "#                       nrep=10000, \n",
    "#                       burn.in=100, \n",
    "#                       save.chain=TRUE)\n",
    "\n"
   ]
  },
  {
   "cell_type": "code",
   "execution_count": null,
   "id": "440010a2-1fc7-4c32-b9c6-4822b788388d",
   "metadata": {},
   "outputs": [],
   "source": [
    "# fname3=paste0(chipname,\".clusterPlot\",n_clu,\".pdf\")\n",
    "# pdf(fname3)\n",
    "# p = clusterPlot(sce,label = \"spatial.cluster\",color=NA,palette=colsblack[1:n_clu])\n",
    "# print(p)\n",
    "# dev.off()\n",
    "# meta = colData(sce)\n",
    "# fname6<-paste0(chipname,'.BayesSpace.clustering',n_clu,'.rds')\n",
    "# meta = meta[as.matrix(rownames(obj@meta.data)),]\n",
    "# saveRDS(meta,fname6)"
   ]
  }
 ],
 "metadata": {
  "kernelspec": {
   "display_name": "R",
   "language": "R",
   "name": "ir"
  },
  "language_info": {
   "codemirror_mode": "r",
   "file_extension": ".r",
   "mimetype": "text/x-r-source",
   "name": "R",
   "pygments_lexer": "r",
   "version": "4.2.2"
  }
 },
 "nbformat": 4,
 "nbformat_minor": 5
}
