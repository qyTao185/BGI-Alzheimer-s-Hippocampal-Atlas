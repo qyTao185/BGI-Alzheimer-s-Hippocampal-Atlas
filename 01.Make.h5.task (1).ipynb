{
 "cells": [
  {
   "cell_type": "code",
   "execution_count": 1,
   "id": "f0e9c3df-2d72-4979-8385-d2439676106a",
   "metadata": {
    "execution": {
     "iopub.execute_input": "2024-10-17T06:28:54.919052Z",
     "iopub.status.busy": "2024-10-17T06:28:54.918078Z",
     "iopub.status.idle": "2024-10-17T06:28:57.665735Z",
     "shell.execute_reply": "2024-10-17T06:28:57.664443Z",
     "shell.execute_reply.started": "2024-10-17T06:28:54.918884Z"
    },
    "tags": []
   },
   "outputs": [],
   "source": [
    "import stereo as st\n",
    "import warnings\n",
    "warnings.filterwarnings('ignore')\n",
    "import os\n",
    "new_path = '/data/work/AD/bin/batch5/01.H5.data'  \n",
    "os.chdir(new_path)"
   ]
  },
  {
   "cell_type": "code",
   "execution_count": 11,
   "id": "8355afd8-3e7e-45c4-82a4-d18846006290",
   "metadata": {
    "execution": {
     "iopub.execute_input": "2024-10-15T07:58:40.877124Z",
     "iopub.status.busy": "2024-10-15T07:58:40.875844Z",
     "iopub.status.idle": "2024-10-15T08:03:20.071880Z",
     "shell.execute_reply": "2024-10-15T08:03:20.069830Z",
     "shell.execute_reply.started": "2024-10-15T07:58:40.877051Z"
    },
    "tags": []
   },
   "outputs": [
    {
     "name": "stdout",
     "output_type": "stream",
     "text": [
      "/data/input/WT202410120001744/Copy-SAW-ST-V8/result/D04305A6/outs/feature_expression/D04305A6.tissue.gef\n"
     ]
    },
    {
     "name": "stderr",
     "output_type": "stream",
     "text": [
      "[2024-10-15 15:58:42][Stereo][275][MainThread][139738795923264][reader][1124][INFO]: read_gef begin ...\n",
      "[2024-10-15 15:58:53][Stereo][275][MainThread][139738795923264][reader][1302][INFO]: the matrix has 29761 cells, and 30883 genes.\n",
      "[2024-10-15 15:58:53][Stereo][275][MainThread][139738795923264][reader][1303][INFO]: read_gef end.\n",
      "[2024-10-15 15:58:53][Stereo][275][MainThread][139738795923264][reader][871][INFO]: Adding sample in adata.obs['orig.ident'].\n",
      "[2024-10-15 15:58:53][Stereo][275][MainThread][139738795923264][reader][874][INFO]: Adding data.position as adata.obsm['spatial'] .\n",
      "[2024-10-15 15:58:53][Stereo][275][MainThread][139738795923264][reader][879][INFO]: Adding data.position as adata.obs['x'] and adata.obs['y'] .\n",
      "[2024-10-15 15:58:53][Stereo][275][MainThread][139738795923264][reader][1014][INFO]: Rename QC info.\n",
      "[2024-10-15 15:58:53][Stereo][275][MainThread][139738795923264][reader][1018][INFO]: Finished conversion to anndata.\n",
      "[2024-10-15 15:59:05][Stereo][275][MainThread][139738795923264][reader][1022][INFO]: Finished output to D04305A6.h5ad\n",
      "[2024-10-15 15:59:05][Stereo][275][MainThread][139738795923264][reader][1124][INFO]: read_gef begin ...\n"
     ]
    },
    {
     "name": "stdout",
     "output_type": "stream",
     "text": [
      "/data/input/WT202410120001743/Copy-SAW-ST-V8/result/D04305A4/outs/feature_expression/D04305A4.tissue.gef\n"
     ]
    },
    {
     "name": "stderr",
     "output_type": "stream",
     "text": [
      "[2024-10-15 15:59:16][Stereo][275][MainThread][139738795923264][reader][1302][INFO]: the matrix has 26977 cells, and 30477 genes.\n",
      "[2024-10-15 15:59:16][Stereo][275][MainThread][139738795923264][reader][1303][INFO]: read_gef end.\n",
      "[2024-10-15 15:59:16][Stereo][275][MainThread][139738795923264][reader][871][INFO]: Adding sample in adata.obs['orig.ident'].\n",
      "[2024-10-15 15:59:16][Stereo][275][MainThread][139738795923264][reader][874][INFO]: Adding data.position as adata.obsm['spatial'] .\n",
      "[2024-10-15 15:59:16][Stereo][275][MainThread][139738795923264][reader][879][INFO]: Adding data.position as adata.obs['x'] and adata.obs['y'] .\n",
      "[2024-10-15 15:59:16][Stereo][275][MainThread][139738795923264][reader][1014][INFO]: Rename QC info.\n",
      "[2024-10-15 15:59:16][Stereo][275][MainThread][139738795923264][reader][1018][INFO]: Finished conversion to anndata.\n",
      "[2024-10-15 15:59:26][Stereo][275][MainThread][139738795923264][reader][1022][INFO]: Finished output to D04305A4.h5ad\n"
     ]
    },
    {
     "name": "stdout",
     "output_type": "stream",
     "text": [
      "/data/input/WT202410120000008/Copy-SAW-ST-V8/result/C04595F1/outs/feature_expression/C04595F1.tissue.gef\n"
     ]
    },
    {
     "name": "stderr",
     "output_type": "stream",
     "text": [
      "[2024-10-15 15:59:28][Stereo][275][MainThread][139738795923264][reader][1124][INFO]: read_gef begin ...\n",
      "[2024-10-15 15:59:40][Stereo][275][MainThread][139738795923264][reader][1302][INFO]: the matrix has 30778 cells, and 30614 genes.\n",
      "[2024-10-15 15:59:40][Stereo][275][MainThread][139738795923264][reader][1303][INFO]: read_gef end.\n",
      "[2024-10-15 15:59:40][Stereo][275][MainThread][139738795923264][reader][871][INFO]: Adding sample in adata.obs['orig.ident'].\n",
      "[2024-10-15 15:59:40][Stereo][275][MainThread][139738795923264][reader][874][INFO]: Adding data.position as adata.obsm['spatial'] .\n",
      "[2024-10-15 15:59:40][Stereo][275][MainThread][139738795923264][reader][879][INFO]: Adding data.position as adata.obs['x'] and adata.obs['y'] .\n",
      "[2024-10-15 15:59:40][Stereo][275][MainThread][139738795923264][reader][1014][INFO]: Rename QC info.\n",
      "[2024-10-15 15:59:40][Stereo][275][MainThread][139738795923264][reader][1018][INFO]: Finished conversion to anndata.\n",
      "[2024-10-15 15:59:53][Stereo][275][MainThread][139738795923264][reader][1022][INFO]: Finished output to C04595F1.h5ad\n"
     ]
    },
    {
     "name": "stdout",
     "output_type": "stream",
     "text": [
      "/data/input/WT202410120000007/Copy-SAW-ST-V8/result/D03556C4/outs/feature_expression/D03556C4.tissue.gef\n"
     ]
    },
    {
     "name": "stderr",
     "output_type": "stream",
     "text": [
      "[2024-10-15 15:59:55][Stereo][275][MainThread][139738795923264][reader][1124][INFO]: read_gef begin ...\n",
      "[2024-10-15 16:00:06][Stereo][275][MainThread][139738795923264][reader][1302][INFO]: the matrix has 28125 cells, and 30348 genes.\n",
      "[2024-10-15 16:00:06][Stereo][275][MainThread][139738795923264][reader][1303][INFO]: read_gef end.\n",
      "[2024-10-15 16:00:06][Stereo][275][MainThread][139738795923264][reader][871][INFO]: Adding sample in adata.obs['orig.ident'].\n",
      "[2024-10-15 16:00:06][Stereo][275][MainThread][139738795923264][reader][874][INFO]: Adding data.position as adata.obsm['spatial'] .\n",
      "[2024-10-15 16:00:06][Stereo][275][MainThread][139738795923264][reader][879][INFO]: Adding data.position as adata.obs['x'] and adata.obs['y'] .\n",
      "[2024-10-15 16:00:06][Stereo][275][MainThread][139738795923264][reader][1014][INFO]: Rename QC info.\n",
      "[2024-10-15 16:00:06][Stereo][275][MainThread][139738795923264][reader][1018][INFO]: Finished conversion to anndata.\n",
      "[2024-10-15 16:00:16][Stereo][275][MainThread][139738795923264][reader][1022][INFO]: Finished output to D03556C4.h5ad\n"
     ]
    },
    {
     "name": "stdout",
     "output_type": "stream",
     "text": [
      "/data/input/WT202410120000005/Copy-SAW-ST-V8/result/D03556D4/outs/feature_expression/D03556D4.tissue.gef\n"
     ]
    },
    {
     "name": "stderr",
     "output_type": "stream",
     "text": [
      "[2024-10-15 16:00:17][Stereo][275][MainThread][139738795923264][reader][1124][INFO]: read_gef begin ...\n",
      "[2024-10-15 16:00:28][Stereo][275][MainThread][139738795923264][reader][1302][INFO]: the matrix has 28823 cells, and 30289 genes.\n",
      "[2024-10-15 16:00:28][Stereo][275][MainThread][139738795923264][reader][1303][INFO]: read_gef end.\n",
      "[2024-10-15 16:00:29][Stereo][275][MainThread][139738795923264][reader][871][INFO]: Adding sample in adata.obs['orig.ident'].\n",
      "[2024-10-15 16:00:29][Stereo][275][MainThread][139738795923264][reader][874][INFO]: Adding data.position as adata.obsm['spatial'] .\n",
      "[2024-10-15 16:00:29][Stereo][275][MainThread][139738795923264][reader][879][INFO]: Adding data.position as adata.obs['x'] and adata.obs['y'] .\n",
      "[2024-10-15 16:00:29][Stereo][275][MainThread][139738795923264][reader][1014][INFO]: Rename QC info.\n",
      "[2024-10-15 16:00:29][Stereo][275][MainThread][139738795923264][reader][1018][INFO]: Finished conversion to anndata.\n",
      "[2024-10-15 16:00:40][Stereo][275][MainThread][139738795923264][reader][1022][INFO]: Finished output to D03556D4.h5ad\n",
      "[2024-10-15 16:00:40][Stereo][275][MainThread][139738795923264][reader][1124][INFO]: read_gef begin ...\n"
     ]
    },
    {
     "name": "stdout",
     "output_type": "stream",
     "text": [
      "/data/input/WT202410120000004/Copy-SAW-ST-V8/result/D03556D6/outs/feature_expression/D03556D6.tissue.gef\n"
     ]
    },
    {
     "name": "stderr",
     "output_type": "stream",
     "text": [
      "[2024-10-15 16:00:51][Stereo][275][MainThread][139738795923264][reader][1302][INFO]: the matrix has 31732 cells, and 29859 genes.\n",
      "[2024-10-15 16:00:51][Stereo][275][MainThread][139738795923264][reader][1303][INFO]: read_gef end.\n",
      "[2024-10-15 16:00:51][Stereo][275][MainThread][139738795923264][reader][871][INFO]: Adding sample in adata.obs['orig.ident'].\n",
      "[2024-10-15 16:00:51][Stereo][275][MainThread][139738795923264][reader][874][INFO]: Adding data.position as adata.obsm['spatial'] .\n",
      "[2024-10-15 16:00:51][Stereo][275][MainThread][139738795923264][reader][879][INFO]: Adding data.position as adata.obs['x'] and adata.obs['y'] .\n",
      "[2024-10-15 16:00:51][Stereo][275][MainThread][139738795923264][reader][1014][INFO]: Rename QC info.\n",
      "[2024-10-15 16:00:51][Stereo][275][MainThread][139738795923264][reader][1018][INFO]: Finished conversion to anndata.\n",
      "[2024-10-15 16:00:59][Stereo][275][MainThread][139738795923264][reader][1022][INFO]: Finished output to D03556D6.h5ad\n"
     ]
    },
    {
     "name": "stdout",
     "output_type": "stream",
     "text": [
      "/data/input/WT202410120000003/Copy-SAW-ST-V8/result/D03556E4/outs/feature_expression/D03556E4.tissue.gef\n"
     ]
    },
    {
     "name": "stderr",
     "output_type": "stream",
     "text": [
      "[2024-10-15 16:01:02][Stereo][275][MainThread][139738795923264][reader][1124][INFO]: read_gef begin ...\n",
      "[2024-10-15 16:01:15][Stereo][275][MainThread][139738795923264][reader][1302][INFO]: the matrix has 30794 cells, and 30330 genes.\n",
      "[2024-10-15 16:01:15][Stereo][275][MainThread][139738795923264][reader][1303][INFO]: read_gef end.\n",
      "[2024-10-15 16:01:15][Stereo][275][MainThread][139738795923264][reader][871][INFO]: Adding sample in adata.obs['orig.ident'].\n",
      "[2024-10-15 16:01:15][Stereo][275][MainThread][139738795923264][reader][874][INFO]: Adding data.position as adata.obsm['spatial'] .\n",
      "[2024-10-15 16:01:15][Stereo][275][MainThread][139738795923264][reader][879][INFO]: Adding data.position as adata.obs['x'] and adata.obs['y'] .\n",
      "[2024-10-15 16:01:15][Stereo][275][MainThread][139738795923264][reader][1014][INFO]: Rename QC info.\n",
      "[2024-10-15 16:01:15][Stereo][275][MainThread][139738795923264][reader][1018][INFO]: Finished conversion to anndata.\n",
      "[2024-10-15 16:01:29][Stereo][275][MainThread][139738795923264][reader][1022][INFO]: Finished output to D03556E4.h5ad\n"
     ]
    },
    {
     "name": "stdout",
     "output_type": "stream",
     "text": [
      "/data/input/WT202410120000002/Copy-SAW-ST-V8/result/D03556E6/outs/feature_expression/D03556E6.tissue.gef\n"
     ]
    },
    {
     "name": "stderr",
     "output_type": "stream",
     "text": [
      "[2024-10-15 16:01:30][Stereo][275][MainThread][139738795923264][reader][1124][INFO]: read_gef begin ...\n",
      "[2024-10-15 16:01:41][Stereo][275][MainThread][139738795923264][reader][1302][INFO]: the matrix has 29099 cells, and 29947 genes.\n",
      "[2024-10-15 16:01:41][Stereo][275][MainThread][139738795923264][reader][1303][INFO]: read_gef end.\n",
      "[2024-10-15 16:01:41][Stereo][275][MainThread][139738795923264][reader][871][INFO]: Adding sample in adata.obs['orig.ident'].\n",
      "[2024-10-15 16:01:41][Stereo][275][MainThread][139738795923264][reader][874][INFO]: Adding data.position as adata.obsm['spatial'] .\n",
      "[2024-10-15 16:01:41][Stereo][275][MainThread][139738795923264][reader][879][INFO]: Adding data.position as adata.obs['x'] and adata.obs['y'] .\n",
      "[2024-10-15 16:01:41][Stereo][275][MainThread][139738795923264][reader][1014][INFO]: Rename QC info.\n",
      "[2024-10-15 16:01:41][Stereo][275][MainThread][139738795923264][reader][1018][INFO]: Finished conversion to anndata.\n",
      "[2024-10-15 16:01:51][Stereo][275][MainThread][139738795923264][reader][1022][INFO]: Finished output to D03556E6.h5ad\n"
     ]
    },
    {
     "name": "stdout",
     "output_type": "stream",
     "text": [
      "/data/input/WT202410120000001/Copy-SAW-ST-V8/result/C04595E2/outs/feature_expression/C04595E2.tissue.gef\n"
     ]
    },
    {
     "name": "stderr",
     "output_type": "stream",
     "text": [
      "[2024-10-15 16:01:51][Stereo][275][MainThread][139738795923264][reader][1124][INFO]: read_gef begin ...\n",
      "[2024-10-15 16:02:06][Stereo][275][MainThread][139738795923264][reader][1302][INFO]: the matrix has 29972 cells, and 31033 genes.\n",
      "[2024-10-15 16:02:06][Stereo][275][MainThread][139738795923264][reader][1303][INFO]: read_gef end.\n",
      "[2024-10-15 16:02:06][Stereo][275][MainThread][139738795923264][reader][871][INFO]: Adding sample in adata.obs['orig.ident'].\n",
      "[2024-10-15 16:02:06][Stereo][275][MainThread][139738795923264][reader][874][INFO]: Adding data.position as adata.obsm['spatial'] .\n",
      "[2024-10-15 16:02:06][Stereo][275][MainThread][139738795923264][reader][879][INFO]: Adding data.position as adata.obs['x'] and adata.obs['y'] .\n",
      "[2024-10-15 16:02:06][Stereo][275][MainThread][139738795923264][reader][1014][INFO]: Rename QC info.\n",
      "[2024-10-15 16:02:06][Stereo][275][MainThread][139738795923264][reader][1018][INFO]: Finished conversion to anndata.\n",
      "[2024-10-15 16:02:21][Stereo][275][MainThread][139738795923264][reader][1022][INFO]: Finished output to C04595E2.h5ad\n"
     ]
    },
    {
     "name": "stdout",
     "output_type": "stream",
     "text": [
      "/data/input/WT202410110005948/Copy-SAW-ST-V8/result/D03556F4/outs/feature_expression/D03556F4.tissue.gef\n"
     ]
    },
    {
     "name": "stderr",
     "output_type": "stream",
     "text": [
      "[2024-10-15 16:02:22][Stereo][275][MainThread][139738795923264][reader][1124][INFO]: read_gef begin ...\n",
      "[2024-10-15 16:02:30][Stereo][275][MainThread][139738795923264][reader][1302][INFO]: the matrix has 28243 cells, and 30061 genes.\n",
      "[2024-10-15 16:02:30][Stereo][275][MainThread][139738795923264][reader][1303][INFO]: read_gef end.\n",
      "[2024-10-15 16:02:30][Stereo][275][MainThread][139738795923264][reader][871][INFO]: Adding sample in adata.obs['orig.ident'].\n",
      "[2024-10-15 16:02:30][Stereo][275][MainThread][139738795923264][reader][874][INFO]: Adding data.position as adata.obsm['spatial'] .\n",
      "[2024-10-15 16:02:30][Stereo][275][MainThread][139738795923264][reader][879][INFO]: Adding data.position as adata.obs['x'] and adata.obs['y'] .\n",
      "[2024-10-15 16:02:30][Stereo][275][MainThread][139738795923264][reader][1014][INFO]: Rename QC info.\n",
      "[2024-10-15 16:02:30][Stereo][275][MainThread][139738795923264][reader][1018][INFO]: Finished conversion to anndata.\n",
      "[2024-10-15 16:02:38][Stereo][275][MainThread][139738795923264][reader][1022][INFO]: Finished output to D03556F4.h5ad\n"
     ]
    },
    {
     "name": "stdout",
     "output_type": "stream",
     "text": [
      "/data/input/WT202410110005947/Copy-SAW-ST-V8/result/D03556F6/outs/feature_expression/D03556F6.tissue.gef\n"
     ]
    },
    {
     "name": "stderr",
     "output_type": "stream",
     "text": [
      "[2024-10-15 16:02:40][Stereo][275][MainThread][139738795923264][reader][1124][INFO]: read_gef begin ...\n",
      "[2024-10-15 16:02:47][Stereo][275][MainThread][139738795923264][reader][1302][INFO]: the matrix has 29888 cells, and 29795 genes.\n",
      "[2024-10-15 16:02:47][Stereo][275][MainThread][139738795923264][reader][1303][INFO]: read_gef end.\n",
      "[2024-10-15 16:02:47][Stereo][275][MainThread][139738795923264][reader][871][INFO]: Adding sample in adata.obs['orig.ident'].\n",
      "[2024-10-15 16:02:47][Stereo][275][MainThread][139738795923264][reader][874][INFO]: Adding data.position as adata.obsm['spatial'] .\n",
      "[2024-10-15 16:02:47][Stereo][275][MainThread][139738795923264][reader][879][INFO]: Adding data.position as adata.obs['x'] and adata.obs['y'] .\n",
      "[2024-10-15 16:02:47][Stereo][275][MainThread][139738795923264][reader][1014][INFO]: Rename QC info.\n",
      "[2024-10-15 16:02:47][Stereo][275][MainThread][139738795923264][reader][1018][INFO]: Finished conversion to anndata.\n",
      "[2024-10-15 16:02:55][Stereo][275][MainThread][139738795923264][reader][1022][INFO]: Finished output to D03556F6.h5ad\n"
     ]
    },
    {
     "name": "stdout",
     "output_type": "stream",
     "text": [
      "/data/input/WT202410110005945/Copy-SAW-ST-V8/result/D04303A6/outs/feature_expression/D04303A6.tissue.gef\n"
     ]
    },
    {
     "name": "stderr",
     "output_type": "stream",
     "text": [
      "[2024-10-15 16:02:57][Stereo][275][MainThread][139738795923264][reader][1124][INFO]: read_gef begin ...\n",
      "[2024-10-15 16:03:08][Stereo][275][MainThread][139738795923264][reader][1302][INFO]: the matrix has 34689 cells, and 31432 genes.\n",
      "[2024-10-15 16:03:08][Stereo][275][MainThread][139738795923264][reader][1303][INFO]: read_gef end.\n",
      "[2024-10-15 16:03:08][Stereo][275][MainThread][139738795923264][reader][871][INFO]: Adding sample in adata.obs['orig.ident'].\n",
      "[2024-10-15 16:03:08][Stereo][275][MainThread][139738795923264][reader][874][INFO]: Adding data.position as adata.obsm['spatial'] .\n",
      "[2024-10-15 16:03:08][Stereo][275][MainThread][139738795923264][reader][879][INFO]: Adding data.position as adata.obs['x'] and adata.obs['y'] .\n",
      "[2024-10-15 16:03:08][Stereo][275][MainThread][139738795923264][reader][1014][INFO]: Rename QC info.\n",
      "[2024-10-15 16:03:08][Stereo][275][MainThread][139738795923264][reader][1018][INFO]: Finished conversion to anndata.\n",
      "[2024-10-15 16:03:20][Stereo][275][MainThread][139738795923264][reader][1022][INFO]: Finished output to D04303A6.h5ad\n"
     ]
    },
    {
     "name": "stdout",
     "output_type": "stream",
     "text": [
      "/data/input/WT202410110005944/Copy-SAW-ST-V8/result/D03556E2/outs/feature_expression/D03556E2.tissue.gef\n"
     ]
    },
    {
     "ename": "FileNotFoundError",
     "evalue": "Please ensure there is a file",
     "output_type": "error",
     "traceback": [
      "\u001b[0;31m---------------------------------------------------------------------------\u001b[0m",
      "\u001b[0;31mFileNotFoundError\u001b[0m                         Traceback (most recent call last)",
      "Cell \u001b[0;32mIn[11], line 18\u001b[0m\n\u001b[1;32m     16\u001b[0m data_path \u001b[38;5;241m=\u001b[39m \u001b[38;5;124mf\u001b[39m\u001b[38;5;124m'\u001b[39m\u001b[38;5;124m/data/input/\u001b[39m\u001b[38;5;132;01m{\u001b[39;00mtaskid\u001b[38;5;132;01m}\u001b[39;00m\u001b[38;5;124m/Copy-SAW-ST-V8/result/\u001b[39m\u001b[38;5;132;01m{\u001b[39;00mSN\u001b[38;5;132;01m}\u001b[39;00m\u001b[38;5;124m/outs/feature_expression/\u001b[39m\u001b[38;5;132;01m{\u001b[39;00mSN\u001b[38;5;132;01m}\u001b[39;00m\u001b[38;5;124m.tissue.gef\u001b[39m\u001b[38;5;124m'\u001b[39m\n\u001b[1;32m     17\u001b[0m \u001b[38;5;28mprint\u001b[39m(data_path)\n\u001b[0;32m---> 18\u001b[0m data \u001b[38;5;241m=\u001b[39m \u001b[43mst\u001b[49m\u001b[38;5;241;43m.\u001b[39;49m\u001b[43mio\u001b[49m\u001b[38;5;241;43m.\u001b[39;49m\u001b[43mread_gef\u001b[49m\u001b[43m(\u001b[49m\u001b[43mfile_path\u001b[49m\u001b[38;5;241;43m=\u001b[39;49m\u001b[43mdata_path\u001b[49m\u001b[43m,\u001b[49m\u001b[43m \u001b[49m\u001b[43mbin_size\u001b[49m\u001b[38;5;241;43m=\u001b[39;49m\u001b[38;5;241;43m100\u001b[39;49m\u001b[43m)\u001b[49m\n\u001b[1;32m     19\u001b[0m adata \u001b[38;5;241m=\u001b[39m st\u001b[38;5;241m.\u001b[39mio\u001b[38;5;241m.\u001b[39mstereo_to_anndata(data,flavor\u001b[38;5;241m=\u001b[39m\u001b[38;5;124m'\u001b[39m\u001b[38;5;124mseurat\u001b[39m\u001b[38;5;124m'\u001b[39m,output\u001b[38;5;241m=\u001b[39m\u001b[38;5;124mf\u001b[39m\u001b[38;5;124m'\u001b[39m\u001b[38;5;132;01m{\u001b[39;00mSN\u001b[38;5;132;01m}\u001b[39;00m\u001b[38;5;124m.h5ad\u001b[39m\u001b[38;5;124m'\u001b[39m)\n",
      "File \u001b[0;32m/opt/conda/lib/python3.8/site-packages/stereo/utils/read_write_utils.py:20\u001b[0m, in \u001b[0;36mReadWriteUtils.check_file_exists.<locals>.wrapped\u001b[0;34m(*args, **kwargs)\u001b[0m\n\u001b[1;32m     18\u001b[0m \u001b[38;5;28;01mif\u001b[39;00m kwargs\u001b[38;5;241m.\u001b[39mget(\u001b[38;5;124m'\u001b[39m\u001b[38;5;124mfile_path\u001b[39m\u001b[38;5;124m'\u001b[39m):\n\u001b[1;32m     19\u001b[0m     \u001b[38;5;28;01mif\u001b[39;00m \u001b[38;5;129;01mnot\u001b[39;00m os\u001b[38;5;241m.\u001b[39mpath\u001b[38;5;241m.\u001b[39mexists(kwargs\u001b[38;5;241m.\u001b[39mget(\u001b[38;5;124m'\u001b[39m\u001b[38;5;124mfile_path\u001b[39m\u001b[38;5;124m'\u001b[39m)):\n\u001b[0;32m---> 20\u001b[0m         \u001b[38;5;28;01mraise\u001b[39;00m \u001b[38;5;167;01mFileNotFoundError\u001b[39;00m(\u001b[38;5;124m\"\u001b[39m\u001b[38;5;124mPlease ensure there is a file\u001b[39m\u001b[38;5;124m\"\u001b[39m)\n\u001b[1;32m     21\u001b[0m \u001b[38;5;28;01melse\u001b[39;00m:\n\u001b[1;32m     22\u001b[0m     \u001b[38;5;66;03m# case ('/test/test/test.file', b=2)\u001b[39;00m\n\u001b[1;32m     23\u001b[0m     \u001b[38;5;28;01mif\u001b[39;00m args:\n",
      "\u001b[0;31mFileNotFoundError\u001b[0m: Please ensure there is a file"
     ]
    }
   ],
   "source": [
    "# 定义taskid和SN列表\n",
    "taskid_list = [\n",
    "    'WT202410120001744', 'WT202410120001743', 'WT202410120000008',\n",
    "    'WT202410120000007', 'WT202410120000005', 'WT202410120000004', 'WT202410120000003',\n",
    "    'WT202410120000002', 'WT202410120000001', 'WT202410110005948', 'WT202410110005947',\n",
    "    'WT202410110005945', 'WT202410110005944'\n",
    "]\n",
    "\n",
    "SN_list = [\n",
    "    'D04305A6', 'D04305A4', 'C04595F1', 'D03556C4', 'D03556D4', 'D03556D6',\n",
    "    'D03556E4', 'D03556E6', 'C04595E2', 'D03556F4', 'D03556F6', 'D04303A6', 'D03556E2'\n",
    "]\n",
    "\n",
    "\n",
    "for taskid, SN in zip(taskid_list, SN_list):\n",
    "    data_path = f'/data/input/{taskid}/Copy-SAW-ST-V8/result/{SN}/outs/feature_expression/{SN}.tissue.gef'\n",
    "    print(data_path)\n",
    "    data = st.io.read_gef(file_path=data_path, bin_size=100)\n",
    "    adata = st.io.stereo_to_anndata(data,flavor='seurat',output=f'{SN}.h5ad')"
   ]
  },
  {
   "cell_type": "code",
   "execution_count": 12,
   "id": "65c23978-ddf9-4a92-bba2-9314ed1ab77e",
   "metadata": {
    "execution": {
     "iopub.execute_input": "2024-10-15T08:05:27.348808Z",
     "iopub.status.busy": "2024-10-15T08:05:27.347823Z",
     "iopub.status.idle": "2024-10-15T08:05:27.359383Z",
     "shell.execute_reply": "2024-10-15T08:05:27.358013Z",
     "shell.execute_reply.started": "2024-10-15T08:05:27.348726Z"
    },
    "tags": []
   },
   "outputs": [
    {
     "data": {
      "text/plain": [
       "'WT202410110005944'"
      ]
     },
     "execution_count": 12,
     "metadata": {},
     "output_type": "execute_result"
    }
   ],
   "source": [
    "taskid"
   ]
  },
  {
   "cell_type": "code",
   "execution_count": 13,
   "id": "6df4eee4-3e34-4835-b9ed-c4f4f13ca3ab",
   "metadata": {
    "execution": {
     "iopub.execute_input": "2024-10-15T08:05:40.952013Z",
     "iopub.status.busy": "2024-10-15T08:05:40.951061Z",
     "iopub.status.idle": "2024-10-15T08:06:04.339864Z",
     "shell.execute_reply": "2024-10-15T08:06:04.338544Z",
     "shell.execute_reply.started": "2024-10-15T08:05:40.951948Z"
    },
    "tags": []
   },
   "outputs": [
    {
     "name": "stdout",
     "output_type": "stream",
     "text": [
      "/data/input/WT202410110005944/Copy-SAW-ST-V8(1)/result/D03556E2/outs/feature_expression/D03556E2.tissue.gef\n"
     ]
    },
    {
     "name": "stderr",
     "output_type": "stream",
     "text": [
      "[2024-10-15 16:05:42][Stereo][275][MainThread][139738795923264][reader][1124][INFO]: read_gef begin ...\n",
      "[2024-10-15 16:05:53][Stereo][275][MainThread][139738795923264][reader][1302][INFO]: the matrix has 32982 cells, and 30654 genes.\n",
      "[2024-10-15 16:05:53][Stereo][275][MainThread][139738795923264][reader][1303][INFO]: read_gef end.\n",
      "[2024-10-15 16:05:53][Stereo][275][MainThread][139738795923264][reader][871][INFO]: Adding sample in adata.obs['orig.ident'].\n",
      "[2024-10-15 16:05:53][Stereo][275][MainThread][139738795923264][reader][874][INFO]: Adding data.position as adata.obsm['spatial'] .\n",
      "[2024-10-15 16:05:53][Stereo][275][MainThread][139738795923264][reader][879][INFO]: Adding data.position as adata.obs['x'] and adata.obs['y'] .\n",
      "[2024-10-15 16:05:53][Stereo][275][MainThread][139738795923264][reader][1014][INFO]: Rename QC info.\n",
      "[2024-10-15 16:05:53][Stereo][275][MainThread][139738795923264][reader][1018][INFO]: Finished conversion to anndata.\n",
      "[2024-10-15 16:06:04][Stereo][275][MainThread][139738795923264][reader][1022][INFO]: Finished output to D03556E2.h5ad\n"
     ]
    }
   ],
   "source": [
    "data_path = f'/data/input/{taskid}/Copy-SAW-ST-V8(1)/result/{SN}/outs/feature_expression/{SN}.tissue.gef'\n",
    "print(data_path)\n",
    "data = st.io.read_gef(file_path=data_path, bin_size=100)\n",
    "adata = st.io.stereo_to_anndata(data,flavor='seurat',output=f'{SN}.h5ad')"
   ]
  },
  {
   "cell_type": "code",
   "execution_count": 2,
   "id": "1f03743d-8167-44c9-b824-df0a015e388d",
   "metadata": {
    "execution": {
     "iopub.execute_input": "2024-10-15T06:54:01.122974Z",
     "iopub.status.busy": "2024-10-15T06:54:01.121857Z",
     "iopub.status.idle": "2024-10-15T06:54:01.146322Z",
     "shell.execute_reply": "2024-10-15T06:54:01.145256Z",
     "shell.execute_reply.started": "2024-10-15T06:54:01.122938Z"
    },
    "tags": []
   },
   "outputs": [
    {
     "data": {
      "text/plain": [
       "'1.3.0'"
      ]
     },
     "execution_count": 2,
     "metadata": {},
     "output_type": "execute_result"
    }
   ],
   "source": [
    "st.__version__"
   ]
  },
  {
   "cell_type": "code",
   "execution_count": null,
   "id": "ea9c491e-c91f-4fda-9e76-42012a516c78",
   "metadata": {},
   "outputs": [],
   "source": [
    "taskid = taskid\n",
    "SN = SN\n",
    "\n",
    "data_path = f'/data/input/{taskid}/Copy-SAW-ST-V8/result/{SN}/outs/feature_expression/{SN}.tissue.gef'\n",
    "st.io.read_gef_info(data_path)\n",
    "data = st.io.read_gef(file_path=data_path, bin_size=100)\n",
    "adata = st.io.stereo_to_anndata(data,flavor='seurat',output=f'{SN}.h5ad')"
   ]
  }
 ],
 "metadata": {
  "kernelspec": {
   "display_name": "Python 3 (ipykernel)",
   "language": "python",
   "name": "python3"
  },
  "language_info": {
   "codemirror_mode": {
    "name": "ipython",
    "version": 3
   },
   "file_extension": ".py",
   "mimetype": "text/x-python",
   "name": "python",
   "nbconvert_exporter": "python",
   "pygments_lexer": "ipython3",
   "version": "3.8.14"
  }
 },
 "nbformat": 4,
 "nbformat_minor": 5
}
