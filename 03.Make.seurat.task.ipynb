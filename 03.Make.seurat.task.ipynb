{
 "cells": [
  {
   "cell_type": "code",
   "execution_count": 7,
   "id": "8fd195a9-f860-4eb4-a1e2-551ed94a6b0e",
   "metadata": {
    "execution": {
     "iopub.execute_input": "2024-10-16T11:03:45.338536Z",
     "iopub.status.busy": "2024-10-16T11:03:45.335778Z",
     "iopub.status.idle": "2024-10-16T11:03:45.475231Z",
     "shell.execute_reply": "2024-10-16T11:03:45.472316Z"
    },
    "tags": []
   },
   "outputs": [],
   "source": [
    "library(data.table)\n",
    "library(arrow)\n",
    "library(ArchR)\n",
    "library(Seurat)\n",
    "library(dplyr)\n",
    "library(Matrix)\n",
    "library(RColorBrewer)\n",
    "library(cowplot)\n",
    "library(future)\n",
    "library(viridis)\n",
    "library(SeuratObject)\n",
    "library(BayesSpace)\n",
    "library(SingleCellExperiment)\n",
    "library(ggplot2)\n",
    "library(getopt)\n",
    "library(reshape2)\n",
    "library(gridExtra)\n",
    "library(harmony)\n",
    "library(imager)\n",
    "library(ggrastr)\n",
    "library(parallel) \n",
    "library(cols4all)\n",
    "library(cowplot)\n",
    "library(\"shinyjs\")\n",
    "library(\"kableExtra\")\n",
    "library(\"colorblindcheck\")\n",
    "library(tidydr) \n",
    "options(warn=-1) \n",
    "suppressMessages(library(tidyverse))\n",
    "suppressMessages(library(parallel))\n",
    "suppressMessages(library(Seurat))\n",
    "# suppressMessages(library(SeuratData))\n",
    "suppressMessages(library(patchwork))\n",
    "suppressMessages(library(Matrix))\n",
    "suppressMessages(library(viridis))\n",
    "suppressMessages(library(cowplot))\n",
    "suppressMessages(library(pheatmap))\n",
    "suppressMessages(library(RColorBrewer))\n",
    "suppressMessages(library(reshape2))\n",
    "suppressMessages(library(randomForest))\n",
    "suppressMessages(library(harmony))\n",
    "# suppressMessages(library(BPCells))\n",
    "suppressMessages(library(reticulate))"
   ]
  },
  {
   "cell_type": "code",
   "execution_count": 3,
   "id": "b1ac41f2-dbea-4944-aca0-53d03670e397",
   "metadata": {
    "execution": {
     "iopub.execute_input": "2024-10-16T10:32:11.966115Z",
     "iopub.status.busy": "2024-10-16T10:32:11.963793Z",
     "iopub.status.idle": "2024-10-16T10:32:11.987465Z",
     "shell.execute_reply": "2024-10-16T10:32:11.985076Z"
    },
    "tags": []
   },
   "outputs": [],
   "source": [
    "colors <- c(\n",
    "  \"#B22A6D\",   # RGB (178, 42, 109)\n",
    "  \"#014F7F\",   # RGB (1, 79, 127)\n",
    "  \"#6D5D77\",   # RGB (109, 93, 119)\n",
    "  \"#FFB7FF\",   # RGB (255, 183, 255)\n",
    "  \"#FF8C53\",   # RGB (255, 140, 83)\n",
    "  \"#00555A\",   # RGB (0, 85, 90)\n",
    "  \"#01FFFF\",   # RGB (1, 255, 255)\n",
    "  \"#924A79\",   # RGB (146, 74, 121)\n",
    "  \"#FC97FE\",   # RGB (252, 151, 254)\n",
    "  \"#5A8895\",   # RGB (90, 136, 149)\n",
    "  \"#0050A0\",   # RGB (0, 80, 160)\n",
    "  \"#919BE2\",   # RGB (145, 155, 226)\n",
    "  \"#009EBE\",   # RGB (0, 158, 190)\n",
    "  \"#059445\",   # RGB (5, 148, 69)\n",
    "  \"#74876B\",   # RGB (116, 135, 107)\n",
    "  \"#00B4FD\"    # RGB (0, 180, 253)\n",
    ")\n",
    "best_color <- c(\"#9571d9\", \"#99cc31\", \"#fb8071\", \"#8cd2c7\", \"#208b23\", \"#199a73\",\"#cbeac4\", \"#6a8e20\", \"#32a02d\", \"#a4cee1\", \"#02bdfe\",\"#08529d\", \"#108b96\", \"#fcb462\", \n",
    "                \"#fd7c01\", \"#fdbc66\", \"#da5e05\", \"#8b0201\",\"#E31A1C\", \"#FDBF6F\", \"#FF7F00\", \"#CAB2D6\", \"#6A3D9A\", \"#B15928\",\"#FBB4AE\", \"#B3CDE3\", \"#BC80BD\", \"#CCEBC5\",\n",
    "                \"#DECBE4\", \"#FED9A6\",\"#FFFFCC\", \"#E5D8BD\", \"#FDDAEC\", \"#F2F2F2\", \"#B3E2CD\", \"#FDCDAC\",\"#CBD5E8\", \"#F4CAE4\", \"#E6F5C9\", \"#FFF2AE\", \"#F1E2CC\", \"#CCCCCC\",\n",
    "                \"#E41A1C\", \"#377EB8\", \"#984EA3\", \"#FFFF33\", \"#A65628\", \"#F781BF\",\"#999999\", \"#FFED6F\", \"#66C2A5\", \"#FC8D62\", \"#8DA0CB\", \"#E78AC3\",\"#A6D854\", \"#FFD92F\",\n",
    "                \"#E5C494\", \"#B3B3B3\", \"#8DD3C7\", \"#FFFFB3\",\"#BEBADA\", \"#FB8072\", \"#80B1D3\", \"#FDB462\", \"#B3DE69\", \"#FCCDE5\",\"#D9D9D9\",\"#666666\")\n",
    "\n",
    "colsblack <- c(colors,\"#FFFF00\",\"#E31A1C\",\"#D7E3FF\",\"#A1CAF1\",\"#C2B280\",\"#999999\",\"#A30059\",\"#FFF300\",\"#F38400\",\n",
    "               \"#00FF00\",\"#A020F0\",\"#509DEA\",\"#FF2F80\",\"#FE4945\",\"#FFE4E1\",\"#E25822\",\"#00C2A0\",\"#4FC601\",\"#FFAA92\",\n",
    "               \"#FDC086\",\"#FF4A9C\",\"#E68FAC\",\"#F781BF\",\"#8FB0FF\",\"#63FFAC\",\"#1CE6FF\",\"#41AB5D\",\"#0000A6\",\"#FFFF99\",\n",
    "               \"#F6A600\",\"#FF1493\",\"#bc321a\",\"#FF90C9\",\"#3B5DFF\",\"#FF34FF\",\"#1E90FF\",\"#F99379\",\"#74C476\",\"#7B4F4B\",\n",
    "               \"#DCD300\",\"#363636\",best_color)"
   ]
  },
  {
   "cell_type": "code",
   "execution_count": 8,
   "id": "d1bd997f-ee7b-48ce-89d5-492bc4c70344",
   "metadata": {
    "execution": {
     "iopub.execute_input": "2024-10-16T11:04:05.729657Z",
     "iopub.status.busy": "2024-10-16T11:04:05.721752Z",
     "iopub.status.idle": "2024-10-16T11:04:42.215266Z",
     "shell.execute_reply": "2024-10-16T11:04:42.210007Z"
    },
    "tags": []
   },
   "outputs": [],
   "source": [
    "# obj <- readRDS(\"/data/work/AD/bin/batch5/04.SCT&h5.data/D03556C4.bin100.SCT.rds\")"
   ]
  },
  {
   "cell_type": "code",
   "execution_count": 12,
   "id": "2a7b50d4-12a1-43d3-a8b2-6fc13ab16d3e",
   "metadata": {
    "execution": {
     "iopub.execute_input": "2024-10-16T11:06:30.053996Z",
     "iopub.status.busy": "2024-10-16T11:06:30.051484Z",
     "iopub.status.idle": "2024-10-16T11:06:35.678756Z",
     "shell.execute_reply": "2024-10-16T11:06:35.675286Z"
    }
   },
   "outputs": [],
   "source": [
    "# install.packages(\"/data/work/ADSC/01.data/Astro/TheBestColors_0.1.0.tar.gz\", repos = NULL, type = \"source\")"
   ]
  },
  {
   "cell_type": "code",
   "execution_count": 13,
   "id": "a3c317c0-c367-4036-92f2-6ab2bd59abb6",
   "metadata": {
    "execution": {
     "iopub.execute_input": "2024-10-16T11:06:38.902786Z",
     "iopub.status.busy": "2024-10-16T11:06:38.900116Z",
     "iopub.status.idle": "2024-10-16T11:06:38.961776Z",
     "shell.execute_reply": "2024-10-16T11:06:38.955239Z"
    }
   },
   "outputs": [],
   "source": [
    "# library(TheBestColors)"
   ]
  },
  {
   "cell_type": "code",
   "execution_count": 14,
   "id": "ba511718-8fe8-4183-86e0-b5f9dee9757c",
   "metadata": {
    "execution": {
     "iopub.execute_input": "2024-10-16T11:06:45.728585Z",
     "iopub.status.busy": "2024-10-16T11:06:45.725682Z",
     "iopub.status.idle": "2024-10-16T11:06:45.763871Z",
     "shell.execute_reply": "2024-10-16T11:06:45.760113Z"
    },
    "tags": []
   },
   "outputs": [],
   "source": [
    "# map <- Best100(90,256)\n",
    "# # map <- Best100(76,256)\n",
    "# mytheme <- theme_void()"
   ]
  },
  {
   "cell_type": "code",
   "execution_count": 22,
   "id": "02f269b0-85fc-466f-a8e1-a5f6f51288a3",
   "metadata": {
    "execution": {
     "iopub.execute_input": "2024-10-16T11:17:51.540863Z",
     "iopub.status.busy": "2024-10-16T11:17:51.538173Z",
     "iopub.status.idle": "2024-10-16T11:17:51.559277Z",
     "shell.execute_reply": "2024-10-16T11:17:51.556047Z"
    },
    "tags": []
   },
   "outputs": [],
   "source": [
    "# df <- obj@meta.data\n",
    "# gene <- \"RGS14\"\n",
    "# df$expr <- obj@assays$SCT@data[gene,]\n",
    "# options(repr.plot.width=5, repr.plot.height=5)\n",
    "# ggplot(data = df, aes(x = coor_x, y = coor_y)) +\n",
    "#     geom_point_rast(aes(color = expr),\n",
    "#                     size = 0.5, \n",
    "#                     alpha =1)+\n",
    "#     # geom_point_rast(data=line,aes(x=coor_x,y=coor_y),size=0.2,color='black',stroke = 0.0001,alpha=0.3) + #画线\n",
    "#     mytheme+\n",
    "#     theme_dr(xlength = 0.2,ylength = 0.2, \n",
    "#              arrow = grid::arrow(length = unit(0.1, \"inches\"), ends = 'last', type = \"closed\")) + \n",
    "#     theme(panel.grid = element_blank())+\n",
    "#     scale_color_gradientn(colors = map) +\n",
    "#     labs(title = gene)+\n",
    "#     theme(plot.title = element_text(size=15,hjust = 0.5,face =\"italic\"))\n",
    "#   #   theme(\n",
    "#   #   panel.background = element_rect(fill = \"black\"),  # 设置图形区域背景为黑色\n",
    "#   #   plot.background = element_rect(fill = \"black\"),   # 设置整个图形的背景为黑色\n",
    "#   #   # panel.grid = element_line(color = \"gray\"),        # 网格线的颜色\n",
    "#   #   # axis.text = element_text(color = \"white\"),        # 坐标轴文字的颜色\n",
    "#   #   plot.title = element_text(color = \"white\",face =\"italic\" )         # 坐标轴标题的颜色\n",
    "#   # )"
   ]
  },
  {
   "cell_type": "code",
   "execution_count": 23,
   "id": "81951c34-3a49-4f7d-bcc7-3dce2d4c544a",
   "metadata": {
    "execution": {
     "iopub.execute_input": "2024-10-16T11:17:52.940809Z",
     "iopub.status.busy": "2024-10-16T11:17:52.934121Z",
     "iopub.status.idle": "2024-10-16T11:17:52.957523Z",
     "shell.execute_reply": "2024-10-16T11:17:52.954904Z"
    },
    "tags": []
   },
   "outputs": [],
   "source": [
    "# df <- obj@meta.data\n",
    "# gene <- \"RGS5\"\n",
    "# df$expr <- obj@assays$SCT@data[gene,]\n",
    "# options(repr.plot.width=5, repr.plot.height=5)\n",
    "# ggplot(data = df, aes(x = coor_x, y = coor_y)) +\n",
    "#     geom_point_rast(aes(color = expr),\n",
    "#                     size = 0.5, \n",
    "#                     alpha =1)+\n",
    "#     # geom_point_rast(data=line,aes(x=coor_x,y=coor_y),size=0.2,color='black',stroke = 0.0001,alpha=0.3) + #画线\n",
    "#     mytheme+\n",
    "#     theme_dr(xlength = 0.2,ylength = 0.2, \n",
    "#              arrow = grid::arrow(length = unit(0.1, \"inches\"), ends = 'last', type = \"closed\")) + \n",
    "#     theme(panel.grid = element_blank())+\n",
    "#     scale_color_gradientn(colors = map) +\n",
    "#     labs(title = gene)+\n",
    "#     theme(plot.title = element_text(size=15,hjust = 0.5,face =\"italic\"))\n",
    "#   #   theme(\n",
    "#   #   panel.background = element_rect(fill = \"black\"),  # 设置图形区域背景为黑色\n",
    "#   #   plot.background = element_rect(fill = \"black\"),   # 设置整个图形的背景为黑色\n",
    "#   #   # panel.grid = element_line(color = \"gray\"),        # 网格线的颜色\n",
    "#   #   # axis.text = element_text(color = \"white\"),        # 坐标轴文字的颜色\n",
    "#   #   plot.title = element_text(color = \"white\",face =\"italic\" )         # 坐标轴标题的颜色\n",
    "#   # )"
   ]
  },
  {
   "cell_type": "code",
   "execution_count": 4,
   "id": "1a514fde-097c-45fd-a5dd-9fee0d00ef9d",
   "metadata": {
    "execution": {
     "iopub.execute_input": "2024-10-16T10:32:14.755943Z",
     "iopub.status.busy": "2024-10-16T10:32:14.753633Z",
     "iopub.status.idle": "2024-10-16T10:32:14.772829Z",
     "shell.execute_reply": "2024-10-16T10:32:14.769007Z"
    },
    "tags": []
   },
   "outputs": [],
   "source": [
    "SN_list = c('D04305A6', 'D04305A4', 'C04595F1', 'D03556C4', 'D03556D4', 'D03556D6',\n",
    "            'D03556E4', 'D03556E6', 'C04595E2', 'D03556F4', 'D03556F6', 'D04303A6', 'D03556E2')"
   ]
  },
  {
   "cell_type": "code",
   "execution_count": 5,
   "id": "048ecbb0-e5b1-4239-a6c2-5cdd44cea405",
   "metadata": {
    "execution": {
     "iopub.execute_input": "2024-10-16T10:32:29.147850Z",
     "iopub.status.busy": "2024-10-16T10:32:29.145529Z",
     "iopub.status.idle": "2024-10-16T10:33:04.872067Z",
     "shell.execute_reply": "2024-10-16T10:33:04.869398Z"
    }
   },
   "outputs": [],
   "source": [
    "i=1\n",
    "features <- fread(paste0(\"/data/work/AD/bin/batch5/02.Matrix.data/\",SN_list[i],\".features.csv\"))\n",
    "  locs <- fread(paste0(\"/data/work/AD/bin/batch5/02.Matrix.data/\",SN_list[i],\"_coordinates.csv\"))\n",
    "  expr <- as.data.frame(read_parquet(paste0(\"/data/work/AD/bin/batch5/02.Matrix.data/\",SN_list[i],\".cellid.parquet\")))\n",
    "  rownames(expr) <- expr$row_names\n",
    "  expr <- expr[,-ncol(expr)]\n",
    "  duplicates.genes <- unique(features$real_gene_name[which(duplicated(features$real_gene_name))])"
   ]
  },
  {
   "cell_type": "code",
   "execution_count": 6,
   "id": "90402194-5245-4ecb-949b-46c530f52799",
   "metadata": {
    "execution": {
     "iopub.execute_input": "2024-10-16T10:33:06.450179Z",
     "iopub.status.busy": "2024-10-16T10:33:06.447901Z",
     "iopub.status.idle": "2024-10-16T10:33:06.472066Z",
     "shell.execute_reply": "2024-10-16T10:33:06.469805Z"
    }
   },
   "outputs": [
    {
     "data": {
      "text/html": [
       "<style>\n",
       ".list-inline {list-style: none; margin:0; padding: 0}\n",
       ".list-inline>li {display: inline-block}\n",
       ".list-inline>li:not(:last-child)::after {content: \"\\00b7\"; padding: 0 .5ex}\n",
       "</style>\n",
       "<ol class=list-inline><li>'RGS5'</li><li>'PINX1'</li><li>'LINC01238'</li><li>'EMG1'</li><li>'TMSB15B'</li><li>'CYB561D2'</li><li>'COG8'</li><li>'MATR3'</li><li>'PRSS50'</li><li>'HSPA14'</li><li>'SCO2'</li><li>'PDE11A'</li><li>'IGF2'</li><li>'CCDC39'</li><li>'DIABLO'</li><li>'TBCE'</li><li>'ATXN7'</li><li>'ABCF2'</li><li>'POLR2J3'</li><li>'SOD2'</li></ol>\n"
      ],
      "text/latex": [
       "\\begin{enumerate*}\n",
       "\\item 'RGS5'\n",
       "\\item 'PINX1'\n",
       "\\item 'LINC01238'\n",
       "\\item 'EMG1'\n",
       "\\item 'TMSB15B'\n",
       "\\item 'CYB561D2'\n",
       "\\item 'COG8'\n",
       "\\item 'MATR3'\n",
       "\\item 'PRSS50'\n",
       "\\item 'HSPA14'\n",
       "\\item 'SCO2'\n",
       "\\item 'PDE11A'\n",
       "\\item 'IGF2'\n",
       "\\item 'CCDC39'\n",
       "\\item 'DIABLO'\n",
       "\\item 'TBCE'\n",
       "\\item 'ATXN7'\n",
       "\\item 'ABCF2'\n",
       "\\item 'POLR2J3'\n",
       "\\item 'SOD2'\n",
       "\\end{enumerate*}\n"
      ],
      "text/markdown": [
       "1. 'RGS5'\n",
       "2. 'PINX1'\n",
       "3. 'LINC01238'\n",
       "4. 'EMG1'\n",
       "5. 'TMSB15B'\n",
       "6. 'CYB561D2'\n",
       "7. 'COG8'\n",
       "8. 'MATR3'\n",
       "9. 'PRSS50'\n",
       "10. 'HSPA14'\n",
       "11. 'SCO2'\n",
       "12. 'PDE11A'\n",
       "13. 'IGF2'\n",
       "14. 'CCDC39'\n",
       "15. 'DIABLO'\n",
       "16. 'TBCE'\n",
       "17. 'ATXN7'\n",
       "18. 'ABCF2'\n",
       "19. 'POLR2J3'\n",
       "20. 'SOD2'\n",
       "\n",
       "\n"
      ],
      "text/plain": [
       " [1] \"RGS5\"      \"PINX1\"     \"LINC01238\" \"EMG1\"      \"TMSB15B\"   \"CYB561D2\" \n",
       " [7] \"COG8\"      \"MATR3\"     \"PRSS50\"    \"HSPA14\"    \"SCO2\"      \"PDE11A\"   \n",
       "[13] \"IGF2\"      \"CCDC39\"    \"DIABLO\"    \"TBCE\"      \"ATXN7\"     \"ABCF2\"    \n",
       "[19] \"POLR2J3\"   \"SOD2\"     "
      ]
     },
     "metadata": {},
     "output_type": "display_data"
    }
   ],
   "source": [
    "duplicates.genes"
   ]
  },
  {
   "cell_type": "code",
   "execution_count": 77,
   "id": "a26e7c20-bcb3-4c93-af79-7d01b9922f2f",
   "metadata": {
    "execution": {
     "iopub.execute_input": "2024-10-15T12:25:29.886722Z",
     "iopub.status.busy": "2024-10-15T12:25:29.885275Z",
     "iopub.status.idle": "2024-10-15T12:49:45.683730Z",
     "shell.execute_reply": "2024-10-15T12:49:45.679904Z"
    },
    "tags": []
   },
   "outputs": [
    {
     "name": "stdout",
     "output_type": "stream",
     "text": [
      "[1] 20\n",
      "[1] 20\n",
      "[1] 20\n",
      "[1] 20\n",
      "[1] 20\n",
      "[1] 20\n",
      "[1] 20\n",
      "[1] 20\n",
      "[1] 20\n",
      "[1] 20\n",
      "[1] 20\n",
      "[1] 20\n",
      "[1] 20\n"
     ]
    }
   ],
   "source": [
    "for (i in 1:length(SN_list)){\n",
    "  features <- fread(paste0(\"/data/work/AD/bin/batch5/02.Matrix.data/\",SN_list[i],\".features.csv\"))\n",
    "  locs <- fread(paste0(\"/data/work/AD/bin/batch5/02.Matrix.data/\",SN_list[i],\"_coordinates.csv\"))\n",
    "  expr <- as.data.frame(read_parquet(paste0(\"/data/work/AD/bin/batch5/02.Matrix.data/\",SN_list[i],\".cellid.parquet\")))\n",
    "  rownames(expr) <- expr$row_names\n",
    "  expr <- expr[,-ncol(expr)]\n",
    "  duplicates.genes <- unique(features$real_gene_name[which(duplicated(features$real_gene_name))])\n",
    "  print(length(duplicates.genes))\n",
    "  if (length(duplicates.genes) > 0 ) {\n",
    "    index1 <- which(features$real_gene_name %in% duplicates.genes)\n",
    "    index2 <- which(features$real_gene_name %ni% duplicates.genes)\n",
    "    df1 <- expr[,index1]\n",
    "    df2 <- expr[,index2]\n",
    "    colnames(df2) <- features$real_gene_name[index2]\n",
    "    df.list <- list()\n",
    "    index.gene <- features$real_gene_name[index1]\n",
    "    for(z in 1:length(duplicates.genes)){\n",
    "      gene <- duplicates.genes[z]\n",
    "      df3 <- df1[,which(index.gene == gene)]\n",
    "      df3 <- rowMeans(df3)\n",
    "      df.list[[z]] <- df3\n",
    "    }\n",
    "    df4 <- do.call(cbind,df.list)\n",
    "    colnames(df4) <- duplicates.genes\n",
    "    df4 <- round(df4,0)\n",
    "    df <- cbind(df2,df4)\n",
    "  } else {\n",
    "    df <- expr\n",
    "    colnames(df) <- features$real_gene_name\n",
    "  }\n",
    "  df <- as.data.frame(t(df))\n",
    "  seuobj <- CreateSeuratObject(counts = df, project = \"Spatial\",assay = \"Spatial\")\n",
    "  rownames(locs) <- colnames(df)\n",
    "  colnames(locs) <- c(\"coor_x\",\"coor_y\")\n",
    "  seuobj <- AddMetaData(seuobj, metadata = locs)\n",
    "  # coord <- data.frame(stereo_1 = seuobj$coor_x, stereo_2 = seuobj$coor_y)\n",
    "  # seuobj[[\"stereo\"]] <- SeuratObject::CreateDimReducObject(embeddings = as.matrix(coord), key = \"stereo_\", assay = \"SCT\")\n",
    "  saveRDS(seuobj,file = paste0(\"/data/work/AD/bin/batch5/03.Raw.rds.data/\",SN_list[i],\".bin100.raw.rds\"))\n",
    "  \n",
    "}"
   ]
  }
 ],
 "metadata": {
  "kernelspec": {
   "display_name": "R",
   "language": "R",
   "name": "ir"
  },
  "language_info": {
   "codemirror_mode": "r",
   "file_extension": ".r",
   "mimetype": "text/x-r-source",
   "name": "R",
   "pygments_lexer": "r",
   "version": "4.2.2"
  }
 },
 "nbformat": 4,
 "nbformat_minor": 5
}
