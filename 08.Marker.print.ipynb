{
 "cells": [
  {
   "cell_type": "code",
   "execution_count": 2,
   "id": "4f97d26b-752f-4e0b-9ac4-c9f6786bed12",
   "metadata": {
    "execution": {
     "iopub.execute_input": "2024-11-01T07:09:47.199268Z",
     "iopub.status.busy": "2024-11-01T07:09:47.161640Z",
     "iopub.status.idle": "2024-11-01T07:09:47.291258Z",
     "shell.execute_reply": "2024-11-01T07:09:47.289390Z"
    },
    "tags": []
   },
   "outputs": [],
   "source": [
    "library(dplyr)\n",
    "library(Matrix)\n",
    "library(data.table)\n",
    "library(Seurat)\n",
    "library(RColorBrewer)\n",
    "library(cowplot)\n",
    "library(future)\n",
    "library(ComplexHeatmap)\n",
    "library(viridis)\n",
    "library(SeuratObject)\n",
    "library(readxl)\n",
    "library(BayesSpace)\n",
    "library(SingleCellExperiment)\n",
    "library(ggplot2)\n",
    "library(getopt)\n",
    "library(reshape2)\n",
    "library(gridExtra)\n",
    "library(harmony)\n",
    "library(imager)\n",
    "library(ArchR)\n",
    "library(ggplot2)\n",
    "library(ggrastr)\n",
    "library(parallel) \n",
    "library(ggplot2)\n",
    "library(cols4all)\n",
    "library(cowplot)\n",
    "library(\"shinyjs\")\n",
    "library(\"kableExtra\")\n",
    "library(\"colorblindcheck\")\n",
    "library(tidydr) \n",
    "options(warn=-1) \n",
    "# source(\"/data/work/AD/bin/batch2/00.code/function.R\")\n",
    "cols <- c(brewer.pal(9, \"Set1\"),brewer.pal(8,\"Set2\")[1:8],brewer.pal(12,\"Paired\")[1:12],brewer.pal(8,\"Dark2\")[1:8],brewer.pal(8,\"Accent\"))\n",
    "suppressMessages(library(tidyverse))\n",
    "suppressMessages(library(parallel))\n",
    "suppressMessages(library(Seurat))\n",
    "# suppressMessages(library(SeuratData))\n",
    "suppressMessages(library(patchwork))\n",
    "suppressMessages(library(Matrix))\n",
    "suppressMessages(library(viridis))\n",
    "suppressMessages(library(cowplot))\n",
    "suppressMessages(library(pheatmap))\n",
    "suppressMessages(library(RColorBrewer))\n",
    "suppressMessages(library(reshape2))\n",
    "suppressMessages(library(randomForest))\n",
    "suppressMessages(library(harmony))\n",
    "# suppressMessages(library(BPCells))\n",
    "suppressMessages(library(reticulate))"
   ]
  },
  {
   "cell_type": "code",
   "execution_count": 3,
   "id": "588742df-0bfa-450b-83ce-33ba7b2fe503",
   "metadata": {
    "execution": {
     "iopub.execute_input": "2024-11-01T07:09:49.161931Z",
     "iopub.status.busy": "2024-11-01T07:09:49.157899Z",
     "iopub.status.idle": "2024-11-01T07:09:49.187977Z",
     "shell.execute_reply": "2024-11-01T07:09:49.186350Z"
    },
    "tags": []
   },
   "outputs": [],
   "source": [
    "colors <- c(\n",
    "  \"#B22A6D\",   # RGB (178, 42, 109)\n",
    "  \"#014F7F\",   # RGB (1, 79, 127)\n",
    "  \"#6D5D77\",   # RGB (109, 93, 119)\n",
    "  \"#FFB7FF\",   # RGB (255, 183, 255)\n",
    "  \"#FF8C53\",   # RGB (255, 140, 83)\n",
    "  \"#00555A\",   # RGB (0, 85, 90)\n",
    "  \"#01FFFF\",   # RGB (1, 255, 255)\n",
    "  \"#924A79\",   # RGB (146, 74, 121)\n",
    "  \"#FC97FE\",   # RGB (252, 151, 254)\n",
    "  \"#5A8895\",   # RGB (90, 136, 149)\n",
    "  \"#0050A0\",   # RGB (0, 80, 160)\n",
    "  \"#919BE2\",   # RGB (145, 155, 226)\n",
    "  \"#009EBE\",   # RGB (0, 158, 190)\n",
    "  \"#059445\",   # RGB (5, 148, 69)\n",
    "  \"#74876B\",   # RGB (116, 135, 107)\n",
    "  \"#00B4FD\"    # RGB (0, 180, 253)\n",
    ")\n",
    "best_color <- c(\"#9571d9\", \"#99cc31\", \"#fb8071\", \"#8cd2c7\", \"#208b23\", \"#199a73\",\"#cbeac4\", \"#6a8e20\", \"#32a02d\", \"#a4cee1\", \"#02bdfe\",\"#08529d\", \"#108b96\", \"#fcb462\", \n",
    "                \"#fd7c01\", \"#fdbc66\", \"#da5e05\", \"#8b0201\",\"#E31A1C\", \"#FDBF6F\", \"#FF7F00\", \"#CAB2D6\", \"#6A3D9A\", \"#B15928\",\"#FBB4AE\", \"#B3CDE3\", \"#BC80BD\", \"#CCEBC5\",\n",
    "                \"#DECBE4\", \"#FED9A6\",\"#FFFFCC\", \"#E5D8BD\", \"#FDDAEC\", \"#F2F2F2\", \"#B3E2CD\", \"#FDCDAC\",\"#CBD5E8\", \"#F4CAE4\", \"#E6F5C9\", \"#FFF2AE\", \"#F1E2CC\", \"#CCCCCC\",\n",
    "                \"#E41A1C\", \"#377EB8\", \"#984EA3\", \"#FFFF33\", \"#A65628\", \"#F781BF\",\"#999999\", \"#FFED6F\", \"#66C2A5\", \"#FC8D62\", \"#8DA0CB\", \"#E78AC3\",\"#A6D854\", \"#FFD92F\",\n",
    "                \"#E5C494\", \"#B3B3B3\", \"#8DD3C7\", \"#FFFFB3\",\"#BEBADA\", \"#FB8072\", \"#80B1D3\", \"#FDB462\", \"#B3DE69\", \"#FCCDE5\",\"#D9D9D9\",\"#666666\")\n",
    "\n",
    "colsblack <- c(colors,\"#FFFF00\",\"#E31A1C\",\"#D7E3FF\",\"#A1CAF1\",\"#C2B280\",\"#999999\",\"#A30059\",\"#FFF300\",\"#F38400\",\n",
    "               \"#00FF00\",\"#A020F0\",\"#509DEA\",\"#FF2F80\",\"#FE4945\",\"#FFE4E1\",\"#E25822\",\"#00C2A0\",\"#4FC601\",\"#FFAA92\",\n",
    "               \"#FDC086\",\"#FF4A9C\",\"#E68FAC\",\"#F781BF\",\"#8FB0FF\",\"#63FFAC\",\"#1CE6FF\",\"#41AB5D\",\"#0000A6\",\"#FFFF99\",\n",
    "               \"#F6A600\",\"#FF1493\",\"#bc321a\",\"#FF90C9\",\"#3B5DFF\",\"#FF34FF\",\"#1E90FF\",\"#F99379\",\"#74C476\",\"#7B4F4B\",\n",
    "               \"#DCD300\",\"#363636\",best_color)"
   ]
  },
  {
   "cell_type": "code",
   "execution_count": 4,
   "id": "0b9fa808-f947-489e-8236-75f4199a7162",
   "metadata": {
    "execution": {
     "iopub.execute_input": "2024-11-01T07:09:50.105832Z",
     "iopub.status.busy": "2024-11-01T07:09:50.101817Z",
     "iopub.status.idle": "2024-11-01T07:09:52.742833Z",
     "shell.execute_reply": "2024-11-01T07:09:52.740710Z"
    },
    "tags": []
   },
   "outputs": [],
   "source": [
    "install.packages(\"/data/work/ADSC/01.data/Astro/TheBestColors_0.1.0.tar.gz\", repos = NULL, type = \"source\")\n",
    "library(TheBestColors)\n",
    "map <- Best100(90,256)\n",
    "# map <- Best100(76,256)\n",
    "mytheme <- theme_void()"
   ]
  },
  {
   "cell_type": "code",
   "execution_count": 5,
   "id": "1dcc6c36-7634-4921-b200-02eed72bdc0a",
   "metadata": {
    "execution": {
     "iopub.execute_input": "2024-11-01T07:09:52.747195Z",
     "iopub.status.busy": "2024-11-01T07:09:52.745701Z",
     "iopub.status.idle": "2024-11-01T07:09:52.758655Z",
     "shell.execute_reply": "2024-11-01T07:09:52.757059Z"
    },
    "tags": []
   },
   "outputs": [],
   "source": [
    "setwd(\"/data/work/AD/bin/batch5_V7/11.Bin.Registration32.data\")"
   ]
  },
  {
   "cell_type": "code",
   "execution_count": 6,
   "id": "d606a63e-2936-4ab7-87eb-69150f981a5a",
   "metadata": {
    "execution": {
     "iopub.execute_input": "2024-11-01T07:09:53.277328Z",
     "iopub.status.busy": "2024-11-01T07:09:53.273410Z",
     "iopub.status.idle": "2024-11-01T07:09:53.292026Z",
     "shell.execute_reply": "2024-11-01T07:09:53.290270Z"
    },
    "tags": []
   },
   "outputs": [],
   "source": [
    "chip.name <- c(   \n",
    "    'Con1.1',\n",
    "    'Con1.2',\n",
    "    'Con2.1',\n",
    "    'Con2.2',\n",
    "    'Con3.1',\n",
    "    'Con3.2',\n",
    "    'Con4.1',\n",
    "    'Con4.2',\n",
    "    'Con5.1',\n",
    "    'Con5.2',\n",
    "    'Con6.1',\n",
    "    'Con6.2',\n",
    "    'Con7.1',\n",
    "    'Con7.2',\n",
    "    'Con8.1',\n",
    "    'Con8.2',\n",
    "    \n",
    "    'AD1.1',\n",
    "    'AD1.2',\n",
    "    'AD2.1',\n",
    "    'AD2.2',\n",
    "    'AD3.1',\n",
    "    'AD3.2',\n",
    "    'AD4.1',\n",
    "    'AD4.2',\n",
    "    'AD5.1',\n",
    "    'AD5.2',\n",
    "    'AD6.1',\n",
    "    'AD6.2',\n",
    "    'AD7.1',\n",
    "    'AD7.2',\n",
    "    'AD8.1',\n",
    "    'AD8.2'\n",
    ")"
   ]
  },
  {
   "cell_type": "code",
   "execution_count": 7,
   "id": "c27e3131-b499-4e93-a9c3-43f6771f5bd8",
   "metadata": {
    "execution": {
     "iopub.execute_input": "2024-11-01T07:09:55.949395Z",
     "iopub.status.busy": "2024-11-01T07:09:55.945359Z",
     "iopub.status.idle": "2024-11-01T07:10:01.729488Z",
     "shell.execute_reply": "2024-11-01T07:10:01.727615Z"
    },
    "tags": []
   },
   "outputs": [],
   "source": [
    "load(\"/data/work/AD/bin/batch5_V7/11.Bin.Registration32.data/metainfo.Rdata\")"
   ]
  },
  {
   "cell_type": "code",
   "execution_count": 8,
   "id": "5f0325d5-4ef6-48a2-8f6f-fb7631ace859",
   "metadata": {
    "execution": {
     "iopub.execute_input": "2024-11-01T07:10:01.733061Z",
     "iopub.status.busy": "2024-11-01T07:10:01.731851Z",
     "iopub.status.idle": "2024-11-01T07:10:01.745288Z",
     "shell.execute_reply": "2024-11-01T07:10:01.743932Z"
    },
    "tags": []
   },
   "outputs": [],
   "source": [
    "SN_list <- c(\n",
    "    'D03556D6',\n",
    "    'D03556E2',\n",
    "    'D04305A4',\n",
    "    'D04305A6',\n",
    "    'D03556F4',\n",
    "    'D03556F6',\n",
    "    'C04595E2',\n",
    "    'C04595F1',\n",
    "\n",
    "    'D03556C4',\n",
    "    'D03556D4',\n",
    "    'D04303A6',\n",
    "    'D04303D1',\n",
    "    'D03556E4',\n",
    "    'D03556E6',\n",
    "    'D04305A2',\n",
    "    'D04305C6')\n",
    "\n",
    "useid <- c(\n",
    "    'Con5.1',\n",
    "    'Con5.2',\n",
    "    'Con6.1',\n",
    "    'Con6.2',\n",
    "    'Con7.1',\n",
    "    'Con7.2',\n",
    "    'Con8.1',\n",
    "    'Con8.2',\n",
    "    \n",
    "    'AD5.1',\n",
    "    'AD5.2',\n",
    "    'AD6.1',\n",
    "    'AD6.2',\n",
    "    'AD7.1',\n",
    "    'AD7.2',\n",
    "    'AD8.1',\n",
    "    'AD8.2'\n",
    ")"
   ]
  },
  {
   "cell_type": "code",
   "execution_count": 9,
   "id": "5ae7f15f-efcf-4f26-835e-edd8180bfb2c",
   "metadata": {
    "execution": {
     "iopub.execute_input": "2024-11-01T07:10:01.748623Z",
     "iopub.status.busy": "2024-11-01T07:10:01.747465Z",
     "iopub.status.idle": "2024-11-01T07:10:01.763625Z",
     "shell.execute_reply": "2024-11-01T07:10:01.762298Z"
    },
    "tags": []
   },
   "outputs": [],
   "source": [
    "for (i in 1:16){\n",
    "    line.list1234[[useid[i]]] <- line.list5[[SN_list[i]]]\n",
    "}\n"
   ]
  },
  {
   "cell_type": "code",
   "execution_count": 10,
   "id": "0fea3900-3420-40d1-850f-47c137d31fbe",
   "metadata": {
    "execution": {
     "iopub.execute_input": "2024-11-01T07:10:50.220774Z",
     "iopub.status.busy": "2024-11-01T07:10:50.218452Z",
     "iopub.status.idle": "2024-11-01T07:11:08.468328Z",
     "shell.execute_reply": "2024-11-01T07:11:08.466075Z"
    },
    "tags": []
   },
   "outputs": [],
   "source": [
    "i <- 8\n",
    "obj <- readRDS(paste0(\"/data/work/AD/bin/batch5_V7/07.Bin100.lasso.area.data/\",chip.name[i],\".bin100.SCT.lasso.rds\"))\n"
   ]
  },
  {
   "cell_type": "code",
   "execution_count": 17,
   "id": "9b44b859-d758-4e93-b9e9-9754b42e56ac",
   "metadata": {
    "execution": {
     "iopub.execute_input": "2024-11-01T07:31:27.729998Z",
     "iopub.status.busy": "2024-11-01T07:31:27.726638Z",
     "iopub.status.idle": "2024-11-01T07:31:30.248267Z",
     "shell.execute_reply": "2024-11-01T07:31:30.246257Z"
    },
    "tags": []
   },
   "outputs": [],
   "source": [
    "options(repr.plot.width=5, repr.plot.height=5)\n",
    "gene <- \"PLP1\"\n",
    "df <- obj@meta.data\n",
    "df$expr <- obj@assays$SCT@data[gene,]\n",
    "p1 <- ggplot(data = df, aes(x = rx, y = ry)) +\n",
    "    geom_point_rast(aes(color = expr),\n",
    "                    size = 1,\n",
    "                    stroke = 0.0001,\n",
    "                    alpha =1)+\n",
    "    geom_point_rast(data=line.list1234[[chip.name[i]]],aes(x=rx,y=ry),size=0.2,color='black',stroke = 0.0001,alpha=1) + #画线\n",
    "    mytheme+\n",
    "    theme_dr(xlength = 0.2,ylength = 0.2, \n",
    "             arrow = grid::arrow(length = unit(0.1, \"inches\"), ends = 'last', type = \"closed\")) + \n",
    "    theme(panel.grid = element_blank(),\n",
    "         legend.position=\"none\")+\n",
    "    scale_color_gradientn(colors = map) +\n",
    "    labs(title = paste0(gene,\"--\",chip.name[i]))+\n",
    "    theme(plot.title = element_text(size=10,hjust = 0.5,face =\"italic\"))\n",
    "ggsave(\"CX3CR1.pdf\",p1,width=6,height=6.5)"
   ]
  },
  {
   "cell_type": "code",
   "execution_count": null,
   "id": "68c1606b-bad6-4a5f-a0e3-3f6054352671",
   "metadata": {},
   "outputs": [],
   "source": []
  },
  {
   "cell_type": "code",
   "execution_count": null,
   "id": "78f1079a-6096-4bff-a371-e0d3a3c15762",
   "metadata": {
    "execution": {
     "iopub.execute_input": "2024-10-31T02:27:18.875619Z",
     "iopub.status.busy": "2024-10-31T02:27:18.872115Z",
     "iopub.status.idle": "2024-10-31T02:41:41.981106Z",
     "shell.execute_reply": "2024-10-31T02:41:41.976569Z"
    },
    "tags": []
   },
   "outputs": [],
   "source": [
    "obj.list <- list()\n",
    "for (i in 1:length(chip.name)){\n",
    "    obj.list[[chip.name[i]]] <- readRDS(paste0(\"/data/work/AD/bin/batch5_V7/07.Bin100.lasso.area.data/\",chip.name[i],\".bin100.SCT.lasso.rds\"))\n",
    "    obj.list[[chip.name[i]]]$chip <- chip.name[i]\n",
    "}"
   ]
  },
  {
   "cell_type": "code",
   "execution_count": 24,
   "id": "20ec85bb-8e92-491e-841b-e432fc3299cb",
   "metadata": {
    "execution": {
     "iopub.execute_input": "2024-10-31T03:12:55.894102Z",
     "iopub.status.busy": "2024-10-31T03:12:55.891391Z",
     "iopub.status.idle": "2024-10-31T03:14:00.761438Z",
     "shell.execute_reply": "2024-10-31T03:14:00.756583Z"
    },
    "tags": []
   },
   "outputs": [],
   "source": [
    "###B\n",
    "# genes <- unique(classMarker$gene)\n",
    "gene <- \"PLPPR4\"\n",
    "p <- list()\n",
    "df.list <- list()\n",
    "for (i in 1:32){\n",
    "  df.list[[i]] <- obj.list[[chip.name[i]]]@meta.data\n",
    "  df.list[[i]]$expr <- obj.list[[chip.name[i]]]@assays$SCT@data[gene,]\n",
    "  p[[i]] <- ggplot(data = df.list[[i]], aes(x = rx, y = ry)) +\n",
    "    geom_point_rast(aes(color = expr),\n",
    "                    size = 0.2,\n",
    "                    stroke = 0.0001,\n",
    "                    alpha =1)+\n",
    "    geom_point_rast(data=line.list1234[[chip.name[i]]],aes(x=rx,y=ry),size=0.2,color='black',stroke = 0.0001,alpha=0.3) + #画线\n",
    "    mytheme+\n",
    "    theme_dr(xlength = 0.2,ylength = 0.2, \n",
    "             arrow = grid::arrow(length = unit(0.1, \"inches\"), ends = 'last', type = \"closed\")) + \n",
    "    theme(panel.grid = element_blank(),\n",
    "         legend.position=\"none\")+\n",
    "    scale_color_gradientn(colors = map) +\n",
    "    labs(title = paste0(gene,\"--\",chip.name[i]))+\n",
    "    theme(plot.title = element_text(size=10,hjust = 0.5,face =\"italic\"))\n",
    "}\n",
    "\n",
    "\n",
    "p_all=plot_grid(plotlist =p,ncol = 16)\n",
    "# options(repr.plot.width=48, repr.plot.height=7)\n",
    "# p_all\n",
    "ggsave(paste0(gene,\".featureplot.pdf\"),p_all,width=24,height=3.5)"
   ]
  },
  {
   "cell_type": "code",
   "execution_count": 25,
   "id": "cac5aee9-d1d4-4019-926b-199a719316f7",
   "metadata": {
    "execution": {
     "iopub.execute_input": "2024-10-31T03:14:00.769414Z",
     "iopub.status.busy": "2024-10-31T03:14:00.766748Z",
     "iopub.status.idle": "2024-10-31T03:15:03.007423Z",
     "shell.execute_reply": "2024-10-31T03:15:03.002432Z"
    },
    "tags": []
   },
   "outputs": [],
   "source": [
    "###B\n",
    "# genes <- unique(classMarker$gene)\n",
    "gene <- \"RGS14\"\n",
    "p <- list()\n",
    "df.list <- list()\n",
    "for (i in 1:32){\n",
    "  df.list[[i]] <- obj.list[[chip.name[i]]]@meta.data\n",
    "  df.list[[i]]$expr <- obj.list[[chip.name[i]]]@assays$SCT@data[gene,]\n",
    "  p[[i]] <- ggplot(data = df.list[[i]], aes(x = rx, y = ry)) +\n",
    "    geom_point_rast(aes(color = expr),\n",
    "                    size = 0.2,\n",
    "                    stroke = 0.0001,\n",
    "                    alpha =1)+\n",
    "    geom_point_rast(data=line.list1234[[chip.name[i]]],aes(x=rx,y=ry),size=0.2,color='black',stroke = 0.0001,alpha=0.3) + #画线\n",
    "    mytheme+\n",
    "    theme_dr(xlength = 0.2,ylength = 0.2, \n",
    "             arrow = grid::arrow(length = unit(0.1, \"inches\"), ends = 'last', type = \"closed\")) + \n",
    "    theme(panel.grid = element_blank(),\n",
    "         legend.position=\"none\")+\n",
    "    scale_color_gradientn(colors = map) +\n",
    "    labs(title = paste0(gene,\"--\",chip.name[i]))+\n",
    "    theme(plot.title = element_text(size=15,hjust = 0.5,face =\"italic\"))\n",
    "}\n",
    "\n",
    "\n",
    "p_all=plot_grid(plotlist =p,ncol = 16)\n",
    "# options(repr.plot.width=48, repr.plot.height=7)\n",
    "# p_all\n",
    "ggsave(paste0(gene,\".featureplot.pdf\"),p_all,width=24,height=3.5)"
   ]
  },
  {
   "cell_type": "code",
   "execution_count": 26,
   "id": "5950276b-8d41-4840-8ad9-0da97d8f64ff",
   "metadata": {
    "execution": {
     "iopub.execute_input": "2024-10-31T03:15:03.015640Z",
     "iopub.status.busy": "2024-10-31T03:15:03.012850Z",
     "iopub.status.idle": "2024-10-31T03:16:07.077539Z",
     "shell.execute_reply": "2024-10-31T03:16:07.072342Z"
    },
    "tags": []
   },
   "outputs": [],
   "source": [
    "###B\n",
    "# genes <- unique(classMarker$gene)\n",
    "gene <- \"HOPX\"\n",
    "p <- list()\n",
    "df.list <- list()\n",
    "for (i in 1:32){\n",
    "  df.list[[i]] <- obj.list[[chip.name[i]]]@meta.data\n",
    "  df.list[[i]]$expr <- obj.list[[chip.name[i]]]@assays$SCT@data[gene,]\n",
    "  p[[i]] <- ggplot(data = df.list[[i]], aes(x = rx, y = ry)) +\n",
    "    geom_point_rast(aes(color = expr),\n",
    "                    size = 0.2,\n",
    "                    stroke = 0.0001,\n",
    "                    alpha =1)+\n",
    "    geom_point_rast(data=line.list1234[[chip.name[i]]],aes(x=rx,y=ry),size=0.2,color='black',stroke = 0.0001,alpha=0.3) + #画线\n",
    "    mytheme+\n",
    "    theme_dr(xlength = 0.2,ylength = 0.2, \n",
    "             arrow = grid::arrow(length = unit(0.1, \"inches\"), ends = 'last', type = \"closed\")) + \n",
    "    theme(panel.grid = element_blank(),\n",
    "         legend.position=\"none\")+\n",
    "    scale_color_gradientn(colors = map) +\n",
    "    labs(title = paste0(gene,\"--\",chip.name[i]))+\n",
    "    theme(plot.title = element_text(size=15,hjust = 0.5,face =\"italic\"))\n",
    "}\n",
    "\n",
    "\n",
    "p_all=plot_grid(plotlist =p,ncol = 16)\n",
    "# options(repr.plot.width=48, repr.plot.height=7)\n",
    "# p_all\n",
    "ggsave(paste0(gene,\".featureplot.pdf\"),p_all,width=24,height=3.5)"
   ]
  },
  {
   "cell_type": "code",
   "execution_count": 27,
   "id": "6db6f11f-0bd0-42df-8c1d-8da855aceba0",
   "metadata": {
    "execution": {
     "iopub.execute_input": "2024-10-31T03:16:07.086698Z",
     "iopub.status.busy": "2024-10-31T03:16:07.083474Z",
     "iopub.status.idle": "2024-10-31T03:17:10.126735Z",
     "shell.execute_reply": "2024-10-31T03:17:10.121573Z"
    }
   },
   "outputs": [],
   "source": [
    "\n",
    "###B\n",
    "# genes <- unique(classMarker$gene)\n",
    "gene <- \"OGFRL1\"\n",
    "p <- list()\n",
    "df.list <- list()\n",
    "for (i in 1:32){\n",
    "  df.list[[i]] <- obj.list[[chip.name[i]]]@meta.data\n",
    "  df.list[[i]]$expr <- obj.list[[chip.name[i]]]@assays$SCT@data[gene,]\n",
    "  p[[i]] <- ggplot(data = df.list[[i]], aes(x = rx, y = ry)) +\n",
    "    geom_point_rast(aes(color = expr),\n",
    "                    size = 0.2,\n",
    "                    stroke = 0.0001,\n",
    "                    alpha =1)+\n",
    "    geom_point_rast(data=line.list1234[[chip.name[i]]],aes(x=rx,y=ry),size=0.2,color='black',stroke = 0.0001,alpha=0.3) + #画线\n",
    "    mytheme+\n",
    "    theme_dr(xlength = 0.2,ylength = 0.2, \n",
    "             arrow = grid::arrow(length = unit(0.1, \"inches\"), ends = 'last', type = \"closed\")) + \n",
    "    theme(panel.grid = element_blank(),\n",
    "         legend.position=\"none\")+\n",
    "    scale_color_gradientn(colors = map) +\n",
    "    labs(title = paste0(gene,\"--\",chip.name[i]))+\n",
    "    theme(plot.title = element_text(size=15,hjust = 0.5,face =\"italic\"))\n",
    "}\n",
    "\n",
    "\n",
    "p_all=plot_grid(plotlist =p,ncol = 16)\n",
    "# options(repr.plot.width=48, repr.plot.height=7)\n",
    "# p_all\n",
    "ggsave(paste0(gene,\".featureplot.pdf\"),p_all,width=24,height=3.5)"
   ]
  },
  {
   "cell_type": "code",
   "execution_count": 28,
   "id": "972ea0d5-aa77-4c72-8995-de283c5bd9af",
   "metadata": {
    "execution": {
     "iopub.execute_input": "2024-10-31T06:14:24.275076Z",
     "iopub.status.busy": "2024-10-31T06:14:24.270024Z",
     "iopub.status.idle": "2024-10-31T06:15:06.792923Z",
     "shell.execute_reply": "2024-10-31T06:15:06.789897Z"
    },
    "tags": []
   },
   "outputs": [],
   "source": [
    "\n",
    "###B\n",
    "# genes <- unique(classMarker$gene)\n",
    "gene <- \"SEMA5A\"\n",
    "p <- list()\n",
    "df.list <- list()\n",
    "for (i in 1:32){\n",
    "  df.list[[i]] <- obj.list[[chip.name[i]]]@meta.data\n",
    "  df.list[[i]]$expr <- obj.list[[chip.name[i]]]@assays$SCT@data[gene,]\n",
    "  p[[i]] <- ggplot(data = df.list[[i]], aes(x = rx, y = ry)) +\n",
    "    geom_point_rast(aes(color = expr),\n",
    "                    size = 0.2,\n",
    "                    stroke = 0.0001,\n",
    "                    alpha =1)+\n",
    "    geom_point_rast(data=line.list1234[[chip.name[i]]],aes(x=rx,y=ry),size=0.2,color='black',stroke = 0.0001,alpha=0.3) + #画线\n",
    "    mytheme+\n",
    "    theme_dr(xlength = 0.2,ylength = 0.2, \n",
    "             arrow = grid::arrow(length = unit(0.1, \"inches\"), ends = 'last', type = \"closed\")) + \n",
    "    theme(panel.grid = element_blank(),\n",
    "         legend.position=\"none\")+\n",
    "    scale_color_gradientn(colors = map) +\n",
    "    labs(title = paste0(gene,\"--\",chip.name[i]))+\n",
    "    theme(plot.title = element_text(size=15,hjust = 0.5,face =\"italic\"))\n",
    "}\n",
    "\n",
    "\n",
    "p_all=plot_grid(plotlist =p,ncol = 16)\n",
    "# options(repr.plot.width=48, repr.plot.height=7)\n",
    "# p_all\n",
    "ggsave(paste0(gene,\".featureplot.pdf\"),p_all,width=24,height=3.5)"
   ]
  },
  {
   "cell_type": "code",
   "execution_count": null,
   "id": "68605ee5-a31e-4a45-a722-abdfeccf95a0",
   "metadata": {},
   "outputs": [],
   "source": []
  }
 ],
 "metadata": {
  "kernelspec": {
   "display_name": "R",
   "language": "R",
   "name": "ir"
  },
  "language_info": {
   "codemirror_mode": "r",
   "file_extension": ".r",
   "mimetype": "text/x-r-source",
   "name": "R",
   "pygments_lexer": "r",
   "version": "4.2.2"
  }
 },
 "nbformat": 4,
 "nbformat_minor": 5
}
