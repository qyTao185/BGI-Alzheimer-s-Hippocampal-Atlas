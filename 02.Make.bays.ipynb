{
 "cells": [
  {
   "cell_type": "code",
   "execution_count": 18,
   "id": "497a8aa2-1c94-4bc6-80f6-91e55824ca5d",
   "metadata": {
    "execution": {
     "iopub.execute_input": "2024-10-21T04:36:00.467251Z",
     "iopub.status.busy": "2024-10-21T04:36:00.465394Z",
     "iopub.status.idle": "2024-10-21T04:36:00.588990Z",
     "shell.execute_reply": "2024-10-21T04:36:00.586876Z"
    },
    "tags": []
   },
   "outputs": [],
   "source": [
    "library(dplyr)\n",
    "library(Matrix)\n",
    "library(data.table)\n",
    "library(Seurat)\n",
    "library(RColorBrewer)\n",
    "library(cowplot)\n",
    "library(future)\n",
    "library(ComplexHeatmap)\n",
    "library(viridis)\n",
    "library(SeuratObject)\n",
    "library(readxl)\n",
    "library(BayesSpace)\n",
    "library(SingleCellExperiment)\n",
    "library(ggplot2)\n",
    "library(getopt)\n",
    "library(reshape2)\n",
    "library(gridExtra)\n",
    "library(harmony)\n",
    "library(imager)\n",
    "library(ArchR)\n",
    "library(ggplot2)\n",
    "library(ggrastr)\n",
    "library(parallel) \n",
    "library(ggplot2)\n",
    "library(cols4all)\n",
    "library(cowplot)\n",
    "library(\"shinyjs\")\n",
    "library(\"kableExtra\")\n",
    "library(\"colorblindcheck\")\n",
    "library(tidydr) \n",
    "options(warn=-1) \n",
    "source(\"/data/work/AD/bin/batch2/00.code/function.R\")\n",
    "cols <- c(brewer.pal(9, \"Set1\"),brewer.pal(8,\"Set2\")[1:8],brewer.pal(12,\"Paired\")[1:12],brewer.pal(8,\"Dark2\")[1:8],brewer.pal(8,\"Accent\"))\n",
    "suppressMessages(library(tidyverse))\n",
    "suppressMessages(library(parallel))\n",
    "suppressMessages(library(Seurat))\n",
    "# suppressMessages(library(SeuratData))\n",
    "suppressMessages(library(patchwork))\n",
    "suppressMessages(library(Matrix))\n",
    "suppressMessages(library(viridis))\n",
    "suppressMessages(library(cowplot))\n",
    "suppressMessages(library(pheatmap))\n",
    "suppressMessages(library(RColorBrewer))\n",
    "suppressMessages(library(reshape2))\n",
    "suppressMessages(library(randomForest))\n",
    "suppressMessages(library(harmony))\n",
    "# suppressMessages(library(BPCells))\n",
    "suppressMessages(library(reticulate))"
   ]
  },
  {
   "cell_type": "code",
   "execution_count": 19,
   "id": "5834c417-13e3-4c3e-a8a9-4db09acfa1e4",
   "metadata": {
    "execution": {
     "iopub.execute_input": "2024-10-21T04:36:06.475070Z",
     "iopub.status.busy": "2024-10-21T04:36:06.473231Z",
     "iopub.status.idle": "2024-10-21T04:36:06.492601Z",
     "shell.execute_reply": "2024-10-21T04:36:06.490739Z"
    },
    "tags": []
   },
   "outputs": [],
   "source": [
    "colors <- c(\n",
    "  \"#B22A6D\",   # RGB (178, 42, 109)\n",
    "  \"#014F7F\",   # RGB (1, 79, 127)\n",
    "  \"#6D5D77\",   # RGB (109, 93, 119)\n",
    "  \"#FFB7FF\",   # RGB (255, 183, 255)\n",
    "  \"#FF8C53\",   # RGB (255, 140, 83)\n",
    "  \"#00555A\",   # RGB (0, 85, 90)\n",
    "  \"#01FFFF\",   # RGB (1, 255, 255)\n",
    "  \"#924A79\",   # RGB (146, 74, 121)\n",
    "  \"#FC97FE\",   # RGB (252, 151, 254)\n",
    "  \"#5A8895\",   # RGB (90, 136, 149)\n",
    "  \"#0050A0\",   # RGB (0, 80, 160)\n",
    "  \"#919BE2\",   # RGB (145, 155, 226)\n",
    "  \"#009EBE\",   # RGB (0, 158, 190)\n",
    "  \"#059445\",   # RGB (5, 148, 69)\n",
    "  \"#74876B\",   # RGB (116, 135, 107)\n",
    "  \"#00B4FD\"    # RGB (0, 180, 253)\n",
    ")\n",
    "best_color <- c(\"#9571d9\", \"#99cc31\", \"#fb8071\", \"#8cd2c7\", \"#208b23\", \"#199a73\",\"#cbeac4\", \"#6a8e20\", \"#32a02d\", \"#a4cee1\", \"#02bdfe\",\"#08529d\", \"#108b96\", \"#fcb462\", \n",
    "                \"#fd7c01\", \"#fdbc66\", \"#da5e05\", \"#8b0201\",\"#E31A1C\", \"#FDBF6F\", \"#FF7F00\", \"#CAB2D6\", \"#6A3D9A\", \"#B15928\",\"#FBB4AE\", \"#B3CDE3\", \"#BC80BD\", \"#CCEBC5\",\n",
    "                \"#DECBE4\", \"#FED9A6\",\"#FFFFCC\", \"#E5D8BD\", \"#FDDAEC\", \"#F2F2F2\", \"#B3E2CD\", \"#FDCDAC\",\"#CBD5E8\", \"#F4CAE4\", \"#E6F5C9\", \"#FFF2AE\", \"#F1E2CC\", \"#CCCCCC\",\n",
    "                \"#E41A1C\", \"#377EB8\", \"#984EA3\", \"#FFFF33\", \"#A65628\", \"#F781BF\",\"#999999\", \"#FFED6F\", \"#66C2A5\", \"#FC8D62\", \"#8DA0CB\", \"#E78AC3\",\"#A6D854\", \"#FFD92F\",\n",
    "                \"#E5C494\", \"#B3B3B3\", \"#8DD3C7\", \"#FFFFB3\",\"#BEBADA\", \"#FB8072\", \"#80B1D3\", \"#FDB462\", \"#B3DE69\", \"#FCCDE5\",\"#D9D9D9\",\"#666666\")\n",
    "\n",
    "colsblack <- c(colors,\"#FFFF00\",\"#E31A1C\",\"#D7E3FF\",\"#A1CAF1\",\"#C2B280\",\"#999999\",\"#A30059\",\"#FFF300\",\"#F38400\",\n",
    "               \"#00FF00\",\"#A020F0\",\"#509DEA\",\"#FF2F80\",\"#FE4945\",\"#FFE4E1\",\"#E25822\",\"#00C2A0\",\"#4FC601\",\"#FFAA92\",\n",
    "               \"#FDC086\",\"#FF4A9C\",\"#E68FAC\",\"#F781BF\",\"#8FB0FF\",\"#63FFAC\",\"#1CE6FF\",\"#41AB5D\",\"#0000A6\",\"#FFFF99\",\n",
    "               \"#F6A600\",\"#FF1493\",\"#bc321a\",\"#FF90C9\",\"#3B5DFF\",\"#FF34FF\",\"#1E90FF\",\"#F99379\",\"#74C476\",\"#7B4F4B\",\n",
    "               \"#DCD300\",\"#363636\",best_color)"
   ]
  },
  {
   "cell_type": "code",
   "execution_count": 1,
   "id": "2305fcf9-91ba-423a-8285-29967d4dd9bb",
   "metadata": {
    "execution": {
     "iopub.execute_input": "2024-10-21T06:27:10.005055Z",
     "iopub.status.busy": "2024-10-21T06:27:09.998634Z",
     "iopub.status.idle": "2024-10-21T06:27:10.037089Z",
     "shell.execute_reply": "2024-10-21T06:27:10.035440Z"
    },
    "tags": []
   },
   "outputs": [],
   "source": [
    "setwd(\"/data/work/AD/bin/batch5_V7/02.BayesSpace.data\")"
   ]
  },
  {
   "cell_type": "code",
   "execution_count": 31,
   "id": "bc8a5f40-71b1-4caa-a6f2-0e74f25cc3c3",
   "metadata": {
    "execution": {
     "iopub.execute_input": "2024-10-21T04:41:14.718649Z",
     "iopub.status.busy": "2024-10-21T04:41:14.716756Z",
     "iopub.status.idle": "2024-10-21T04:41:44.094414Z",
     "shell.execute_reply": "2024-10-21T04:41:44.091078Z"
    },
    "tags": []
   },
   "outputs": [
    {
     "name": "stdout",
     "output_type": "stream",
     "text": [
      "[1] \"D04305A2\"\n"
     ]
    }
   ],
   "source": [
    "chipname = chipname\n",
    "print(chipname)\n",
    "obj <- readRDS(paste0(\"/data/work/AD/bin/batch5_V7/01.SCT&h5.data/\",chipname,\".bin100.SCT.rds\"))"
   ]
  },
  {
   "cell_type": "code",
   "execution_count": 24,
   "id": "cdc096a6-9f55-4415-aa83-1ff1885b914e",
   "metadata": {
    "execution": {
     "iopub.execute_input": "2024-10-21T04:38:39.873178Z",
     "iopub.status.busy": "2024-10-21T04:38:39.871167Z",
     "iopub.status.idle": "2024-10-21T04:38:39.912599Z",
     "shell.execute_reply": "2024-10-21T04:38:39.910897Z"
    }
   },
   "outputs": [
    {
     "name": "stdout",
     "output_type": "stream",
     "text": [
      " [1] \"INMT-MINDY4\" \"MT-ATP6\"     \"MT-ATP8\"     \"MT-CO1\"      \"MT-CO2\"     \n",
      " [6] \"MT-CO3\"      \"MT-CYB\"      \"MT-ND1\"      \"MT-ND2\"      \"MT-ND3\"     \n",
      "[11] \"MT-ND4\"      \"MT-ND4L\"     \"MT-ND5\"      \"MT-ND6\"      \"MT-RNR1\"    \n",
      "[16] \"MT-RNR2\"     \"MT-TA\"       \"MT-TC\"       \"MT-TD\"       \"MT-TE\"      \n",
      "[21] \"MT-TF\"       \"MT-TG\"       \"MT-TH\"       \"MT-TI\"       \"MT-TK\"      \n",
      "[26] \"MT-TL1\"      \"MT-TL2\"      \"MT-TM\"       \"MT-TP\"       \"MT-TQ\"      \n",
      "[31] \"MT-TR\"       \"MT-TS1\"      \"MT-TS2\"      \"MT-TT\"       \"MT-TV\"      \n",
      "[36] \"MT-TW\"       \"MT-TY\"      \n"
     ]
    }
   ],
   "source": [
    "print(rownames(obj)[grep(\"MT-\",rownames(obj))])"
   ]
  },
  {
   "cell_type": "code",
   "execution_count": 37,
   "id": "ea624d2f-fc70-47d2-82bb-71405e2b5dac",
   "metadata": {
    "execution": {
     "iopub.execute_input": "2024-10-21T05:57:10.929351Z",
     "iopub.status.busy": "2024-10-21T05:57:10.927635Z",
     "iopub.status.idle": "2024-10-21T05:57:11.015680Z",
     "shell.execute_reply": "2024-10-21T05:57:11.013263Z"
    },
    "tags": []
   },
   "outputs": [],
   "source": [
    "obj$row = obj$coor_y\n",
    "obj$col = obj$coor_x"
   ]
  },
  {
   "cell_type": "code",
   "execution_count": 39,
   "id": "a0d61e2b-445f-40ad-83b1-24758a2a14e2",
   "metadata": {
    "execution": {
     "iopub.execute_input": "2024-10-21T05:57:25.928489Z",
     "iopub.status.busy": "2024-10-21T05:57:25.923898Z",
     "iopub.status.idle": "2024-10-21T05:58:45.597847Z",
     "shell.execute_reply": "2024-10-21T05:58:45.594921Z"
    },
    "tags": []
   },
   "outputs": [],
   "source": [
    "sce <- as.SingleCellExperiment(obj,assay='SCT')\n",
    "set.seed(1234)\n",
    "sce <- spatialPreprocess(sce, platform=\"ST\", \n",
    "                         n.PCs=50, n.HVGs=3000, log.normalize=F)\n",
    "\n"
   ]
  },
  {
   "cell_type": "code",
   "execution_count": null,
   "id": "5edbb11e-d836-4f5b-bb8d-9354a6f72839",
   "metadata": {
    "execution": {
     "iopub.execute_input": "2024-10-21T06:22:35.192992Z",
     "iopub.status.busy": "2024-10-21T06:22:35.189210Z"
    },
    "tags": []
   },
   "outputs": [
    {
     "name": "stderr",
     "output_type": "stream",
     "text": [
      "Neighbors were identified for 31860 out of 31860 spots.\n",
      "\n"
     ]
    }
   ],
   "source": [
    "n_clu=50 \n",
    "sce <- spatialCluster(sce, q=n_clu,\n",
    "                      platform=\"ST\", \n",
    "                      d=30,\n",
    "                      init.method=\"mclust\",\n",
    "                      model=\"t\",\n",
    "                      gamma=2,\n",
    "                      nrep=10000, \n",
    "                      burn.in=100, \n",
    "                      save.chain=TRUE)\n",
    "\n"
   ]
  },
  {
   "cell_type": "code",
   "execution_count": null,
   "id": "440010a2-1fc7-4c32-b9c6-4822b788388d",
   "metadata": {},
   "outputs": [],
   "source": [
    "fname3=paste0(chipname,\".clusterPlot\",n_clu,\".pdf\")\n",
    "pdf(fname3)\n",
    "p = clusterPlot(sce,label = \"spatial.cluster\",color=NA,palette=colsblack[1:n_clu])\n",
    "print(p)\n",
    "dev.off()\n",
    "meta = colData(sce)\n",
    "fname6<-paste0(chipname,'.BayesSpace.clustering',n_clu,'.rds')\n",
    "meta = meta[as.matrix(rownames(obj@meta.data)),]\n",
    "saveRDS(meta,fname6)"
   ]
  }
 ],
 "metadata": {
  "kernelspec": {
   "display_name": "R",
   "language": "R",
   "name": "ir"
  },
  "language_info": {
   "codemirror_mode": "r",
   "file_extension": ".r",
   "mimetype": "text/x-r-source",
   "name": "R",
   "pygments_lexer": "r",
   "version": "4.2.2"
  }
 },
 "nbformat": 4,
 "nbformat_minor": 5
}
